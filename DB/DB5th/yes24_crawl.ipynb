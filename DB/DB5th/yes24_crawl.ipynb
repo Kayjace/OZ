{
 "cells": [
  {
   "cell_type": "code",
   "execution_count": 5,
   "metadata": {},
   "outputs": [
    {
     "data": {
      "text/plain": [
       "'/Users/mac/.wdm/drivers/chromedriver/mac64/127.0.6533.119/chromedriver-mac-x64/chromedriver'"
      ]
     },
     "execution_count": 5,
     "metadata": {},
     "output_type": "execute_result"
    }
   ],
   "source": [
    "#webdriver-manager library import\n",
    "from webdriver_manager.chrome import ChromeDriverManager\n",
    "ChromeDriverManager().install()"
   ]
  },
  {
   "cell_type": "code",
   "execution_count": 1,
   "metadata": {},
   "outputs": [],
   "source": [
    "from selenium import webdriver\n",
    "browser = webdriver.Chrome()"
   ]
  },
  {
   "cell_type": "code",
   "execution_count": 15,
   "metadata": {},
   "outputs": [],
   "source": [
    "url = 'https://www.google.com'\n",
    "browser.get(url)"
   ]
  },
  {
   "cell_type": "code",
   "execution_count": 6,
   "metadata": {},
   "outputs": [
    {
     "ename": "NoSuchElementException",
     "evalue": "Message: no such element: Unable to locate element: {\"method\":\"css selector\",\"selector\":\".uU7dJb\"}\n  (Session info: chrome=127.0.6533.120); For documentation on this error, please visit: https://www.selenium.dev/documentation/webdriver/troubleshooting/errors#no-such-element-exception\nStacktrace:\n0   chromedriver                        0x000000010d8638b8 chromedriver + 5179576\n1   chromedriver                        0x000000010d85b2ea chromedriver + 5145322\n2   chromedriver                        0x000000010d3d22b0 chromedriver + 389808\n3   chromedriver                        0x000000010d41e3e1 chromedriver + 701409\n4   chromedriver                        0x000000010d41e691 chromedriver + 702097\n5   chromedriver                        0x000000010d460464 chromedriver + 971876\n6   chromedriver                        0x000000010d4407dd chromedriver + 841693\n7   chromedriver                        0x000000010d45db9b chromedriver + 961435\n8   chromedriver                        0x000000010d440553 chromedriver + 841043\n9   chromedriver                        0x000000010d4117f6 chromedriver + 649206\n10  chromedriver                        0x000000010d41205e chromedriver + 651358\n11  chromedriver                        0x000000010d826b20 chromedriver + 4930336\n12  chromedriver                        0x000000010d82ba36 chromedriver + 4950582\n13  chromedriver                        0x000000010d82c105 chromedriver + 4952325\n14  chromedriver                        0x000000010d808ee9 chromedriver + 4808425\n15  chromedriver                        0x000000010d82c3f9 chromedriver + 4953081\n16  chromedriver                        0x000000010d7fa844 chromedriver + 4749380\n17  chromedriver                        0x000000010d84b5c8 chromedriver + 5080520\n18  chromedriver                        0x000000010d84b787 chromedriver + 5080967\n19  chromedriver                        0x000000010d85aece chromedriver + 5144270\n20  libsystem_pthread.dylib             0x00007ff80e81618b _pthread_start + 99\n21  libsystem_pthread.dylib             0x00007ff80e811ae3 thread_start + 15\n",
     "output_type": "error",
     "traceback": [
      "\u001b[0;31m---------------------------------------------------------------------------\u001b[0m",
      "\u001b[0;31mNoSuchElementException\u001b[0m                    Traceback (most recent call last)",
      "Cell \u001b[0;32mIn[6], line 2\u001b[0m\n\u001b[1;32m      1\u001b[0m \u001b[38;5;28;01mfrom\u001b[39;00m \u001b[38;5;21;01mselenium\u001b[39;00m\u001b[38;5;21;01m.\u001b[39;00m\u001b[38;5;21;01mwebdriver\u001b[39;00m\u001b[38;5;21;01m.\u001b[39;00m\u001b[38;5;21;01mcommon\u001b[39;00m\u001b[38;5;21;01m.\u001b[39;00m\u001b[38;5;21;01mby\u001b[39;00m \u001b[38;5;28;01mimport\u001b[39;00m By\n\u001b[0;32m----> 2\u001b[0m \u001b[43mbrowser\u001b[49m\u001b[38;5;241;43m.\u001b[39;49m\u001b[43mfind_element\u001b[49m\u001b[43m(\u001b[49m\u001b[43mBy\u001b[49m\u001b[38;5;241;43m.\u001b[39;49m\u001b[43mCLASS_NAME\u001b[49m\u001b[43m,\u001b[49m\u001b[43m \u001b[49m\u001b[38;5;124;43m'\u001b[39;49m\u001b[38;5;124;43muU7dJb\u001b[39;49m\u001b[38;5;124;43m'\u001b[39;49m\u001b[43m)\u001b[49m\u001b[38;5;241m.\u001b[39mtext\n",
      "File \u001b[0;32m~/.pyenv/versions/3.9.7/lib/python3.9/site-packages/selenium/webdriver/remote/webdriver.py:748\u001b[0m, in \u001b[0;36mWebDriver.find_element\u001b[0;34m(self, by, value)\u001b[0m\n\u001b[1;32m    745\u001b[0m     by \u001b[38;5;241m=\u001b[39m By\u001b[38;5;241m.\u001b[39mCSS_SELECTOR\n\u001b[1;32m    746\u001b[0m     value \u001b[38;5;241m=\u001b[39m \u001b[38;5;124mf\u001b[39m\u001b[38;5;124m'\u001b[39m\u001b[38;5;124m[name=\u001b[39m\u001b[38;5;124m\"\u001b[39m\u001b[38;5;132;01m{\u001b[39;00mvalue\u001b[38;5;132;01m}\u001b[39;00m\u001b[38;5;124m\"\u001b[39m\u001b[38;5;124m]\u001b[39m\u001b[38;5;124m'\u001b[39m\n\u001b[0;32m--> 748\u001b[0m \u001b[38;5;28;01mreturn\u001b[39;00m \u001b[38;5;28;43mself\u001b[39;49m\u001b[38;5;241;43m.\u001b[39;49m\u001b[43mexecute\u001b[49m\u001b[43m(\u001b[49m\u001b[43mCommand\u001b[49m\u001b[38;5;241;43m.\u001b[39;49m\u001b[43mFIND_ELEMENT\u001b[49m\u001b[43m,\u001b[49m\u001b[43m \u001b[49m\u001b[43m{\u001b[49m\u001b[38;5;124;43m\"\u001b[39;49m\u001b[38;5;124;43musing\u001b[39;49m\u001b[38;5;124;43m\"\u001b[39;49m\u001b[43m:\u001b[49m\u001b[43m \u001b[49m\u001b[43mby\u001b[49m\u001b[43m,\u001b[49m\u001b[43m \u001b[49m\u001b[38;5;124;43m\"\u001b[39;49m\u001b[38;5;124;43mvalue\u001b[39;49m\u001b[38;5;124;43m\"\u001b[39;49m\u001b[43m:\u001b[49m\u001b[43m \u001b[49m\u001b[43mvalue\u001b[49m\u001b[43m}\u001b[49m\u001b[43m)\u001b[49m[\u001b[38;5;124m\"\u001b[39m\u001b[38;5;124mvalue\u001b[39m\u001b[38;5;124m\"\u001b[39m]\n",
      "File \u001b[0;32m~/.pyenv/versions/3.9.7/lib/python3.9/site-packages/selenium/webdriver/remote/webdriver.py:354\u001b[0m, in \u001b[0;36mWebDriver.execute\u001b[0;34m(self, driver_command, params)\u001b[0m\n\u001b[1;32m    352\u001b[0m response \u001b[38;5;241m=\u001b[39m \u001b[38;5;28mself\u001b[39m\u001b[38;5;241m.\u001b[39mcommand_executor\u001b[38;5;241m.\u001b[39mexecute(driver_command, params)\n\u001b[1;32m    353\u001b[0m \u001b[38;5;28;01mif\u001b[39;00m response:\n\u001b[0;32m--> 354\u001b[0m     \u001b[38;5;28;43mself\u001b[39;49m\u001b[38;5;241;43m.\u001b[39;49m\u001b[43merror_handler\u001b[49m\u001b[38;5;241;43m.\u001b[39;49m\u001b[43mcheck_response\u001b[49m\u001b[43m(\u001b[49m\u001b[43mresponse\u001b[49m\u001b[43m)\u001b[49m\n\u001b[1;32m    355\u001b[0m     response[\u001b[38;5;124m\"\u001b[39m\u001b[38;5;124mvalue\u001b[39m\u001b[38;5;124m\"\u001b[39m] \u001b[38;5;241m=\u001b[39m \u001b[38;5;28mself\u001b[39m\u001b[38;5;241m.\u001b[39m_unwrap_value(response\u001b[38;5;241m.\u001b[39mget(\u001b[38;5;124m\"\u001b[39m\u001b[38;5;124mvalue\u001b[39m\u001b[38;5;124m\"\u001b[39m, \u001b[38;5;28;01mNone\u001b[39;00m))\n\u001b[1;32m    356\u001b[0m     \u001b[38;5;28;01mreturn\u001b[39;00m response\n",
      "File \u001b[0;32m~/.pyenv/versions/3.9.7/lib/python3.9/site-packages/selenium/webdriver/remote/errorhandler.py:229\u001b[0m, in \u001b[0;36mErrorHandler.check_response\u001b[0;34m(self, response)\u001b[0m\n\u001b[1;32m    227\u001b[0m         alert_text \u001b[38;5;241m=\u001b[39m value[\u001b[38;5;124m\"\u001b[39m\u001b[38;5;124malert\u001b[39m\u001b[38;5;124m\"\u001b[39m]\u001b[38;5;241m.\u001b[39mget(\u001b[38;5;124m\"\u001b[39m\u001b[38;5;124mtext\u001b[39m\u001b[38;5;124m\"\u001b[39m)\n\u001b[1;32m    228\u001b[0m     \u001b[38;5;28;01mraise\u001b[39;00m exception_class(message, screen, stacktrace, alert_text)  \u001b[38;5;66;03m# type: ignore[call-arg]  # mypy is not smart enough here\u001b[39;00m\n\u001b[0;32m--> 229\u001b[0m \u001b[38;5;28;01mraise\u001b[39;00m exception_class(message, screen, stacktrace)\n",
      "\u001b[0;31mNoSuchElementException\u001b[0m: Message: no such element: Unable to locate element: {\"method\":\"css selector\",\"selector\":\".uU7dJb\"}\n  (Session info: chrome=127.0.6533.120); For documentation on this error, please visit: https://www.selenium.dev/documentation/webdriver/troubleshooting/errors#no-such-element-exception\nStacktrace:\n0   chromedriver                        0x000000010d8638b8 chromedriver + 5179576\n1   chromedriver                        0x000000010d85b2ea chromedriver + 5145322\n2   chromedriver                        0x000000010d3d22b0 chromedriver + 389808\n3   chromedriver                        0x000000010d41e3e1 chromedriver + 701409\n4   chromedriver                        0x000000010d41e691 chromedriver + 702097\n5   chromedriver                        0x000000010d460464 chromedriver + 971876\n6   chromedriver                        0x000000010d4407dd chromedriver + 841693\n7   chromedriver                        0x000000010d45db9b chromedriver + 961435\n8   chromedriver                        0x000000010d440553 chromedriver + 841043\n9   chromedriver                        0x000000010d4117f6 chromedriver + 649206\n10  chromedriver                        0x000000010d41205e chromedriver + 651358\n11  chromedriver                        0x000000010d826b20 chromedriver + 4930336\n12  chromedriver                        0x000000010d82ba36 chromedriver + 4950582\n13  chromedriver                        0x000000010d82c105 chromedriver + 4952325\n14  chromedriver                        0x000000010d808ee9 chromedriver + 4808425\n15  chromedriver                        0x000000010d82c3f9 chromedriver + 4953081\n16  chromedriver                        0x000000010d7fa844 chromedriver + 4749380\n17  chromedriver                        0x000000010d84b5c8 chromedriver + 5080520\n18  chromedriver                        0x000000010d84b787 chromedriver + 5080967\n19  chromedriver                        0x000000010d85aece chromedriver + 5144270\n20  libsystem_pthread.dylib             0x00007ff80e81618b _pthread_start + 99\n21  libsystem_pthread.dylib             0x00007ff80e811ae3 thread_start + 15\n"
     ]
    }
   ],
   "source": [
    "from selenium.webdriver.common.by import By\n",
    "browser.find_element(By.CLASS_NAME, 'uU7dJb').text"
   ]
  },
  {
   "cell_type": "code",
   "execution_count": 2,
   "metadata": {},
   "outputs": [],
   "source": [
    "url = 'https://www.yes24.com/Product/Category/BestSeller?categoryNumber=001&pageNumber=1&pageSize=24'\n",
    "browser.get(url)"
   ]
  },
  {
   "cell_type": "code",
   "execution_count": 4,
   "metadata": {},
   "outputs": [
    {
     "ename": "NameError",
     "evalue": "name 'By' is not defined",
     "output_type": "error",
     "traceback": [
      "\u001b[0;31m---------------------------------------------------------------------------\u001b[0m",
      "\u001b[0;31mNameError\u001b[0m                                 Traceback (most recent call last)",
      "Cell \u001b[0;32mIn[4], line 2\u001b[0m\n\u001b[1;32m      1\u001b[0m \u001b[38;5;66;03m#1 페이지의 링크데이터 전부 수집\u001b[39;00m\n\u001b[0;32m----> 2\u001b[0m browser\u001b[38;5;241m.\u001b[39mfind_element(\u001b[43mBy\u001b[49m\u001b[38;5;241m.\u001b[39mCLASS_NAME, \u001b[38;5;124m'\u001b[39m\u001b[38;5;124mgd_name\u001b[39m\u001b[38;5;124m'\u001b[39m)\u001b[38;5;241m.\u001b[39mget_attribute(\u001b[38;5;124m'\u001b[39m\u001b[38;5;124mhref\u001b[39m\u001b[38;5;124m'\u001b[39m)\n\u001b[1;32m      4\u001b[0m \u001b[38;5;66;03m#browser.find_element(By.CLASS_NAME, 'gd_name') # element: 요소\u001b[39;00m\n\u001b[1;32m      5\u001b[0m datas \u001b[38;5;241m=\u001b[39m browser\u001b[38;5;241m.\u001b[39mfind_elements(By\u001b[38;5;241m.\u001b[39mCLASS_NAME, \u001b[38;5;124m'\u001b[39m\u001b[38;5;124mgd_name\u001b[39m\u001b[38;5;124m'\u001b[39m) \u001b[38;5;66;03m#elements : 리스트\u001b[39;00m\n",
      "\u001b[0;31mNameError\u001b[0m: name 'By' is not defined"
     ]
    }
   ],
   "source": [
    "#1 페이지의 링크데이터 전부 수집\n",
    "browser.find_element(By.CLASS_NAME, 'gd_name').get_attribute('href')\n",
    "\n",
    "#browser.find_element(By.CLASS_NAME, 'gd_name') # element: 요소\n",
    "datas = browser.find_elements(By.CLASS_NAME, 'gd_name') #elements : 리스트\n",
    "\n",
    "for i in datas:\n",
    "    print(i.get_attribute('href'))"
   ]
  },
  {
   "cell_type": "code",
   "execution_count": 7,
   "metadata": {},
   "outputs": [
    {
     "name": "stdout",
     "output_type": "stream",
     "text": [
      "['https://www.yes24.com/Product/Goods/102457889', 'https://www.yes24.com/Product/Goods/128266166', 'https://www.yes24.com/Product/Goods/125557465', 'https://www.yes24.com/Product/Goods/130500819', 'https://www.yes24.com/Product/Goods/104687898', 'https://www.yes24.com/Product/Goods/109145992', 'https://www.yes24.com/Product/Goods/95721612', 'https://www.yes24.com/Product/Goods/129602366', 'https://www.yes24.com/Product/Goods/124999476', 'https://www.yes24.com/Product/Goods/131930939', 'https://www.yes24.com/Product/Goods/131931234', 'https://www.yes24.com/Product/Goods/128917300', 'https://www.yes24.com/Product/Goods/117014613', 'https://www.yes24.com/Product/Goods/132560712', 'https://www.yes24.com/Product/Goods/126642929', 'https://www.yes24.com/Product/Goods/130033773', 'https://www.yes24.com/Product/Goods/132556345', 'https://www.yes24.com/Product/Goods/124043812', 'https://www.yes24.com/Product/Goods/96547408', 'https://www.yes24.com/Product/Goods/124043802', 'https://www.yes24.com/Product/Goods/128133897', 'https://www.yes24.com/Product/Goods/8759796', 'https://www.yes24.com/Product/Goods/125384743', 'https://www.yes24.com/Product/Goods/130134996', 'https://www.yes24.com/Product/Goods/127050264', 'https://www.yes24.com/Product/Goods/130135671', 'https://www.yes24.com/Product/Goods/105119262', 'https://www.yes24.com/Product/Goods/132005760', 'https://www.yes24.com/Product/Goods/130175384', 'https://www.yes24.com/Product/Goods/125995791', 'https://www.yes24.com/Product/Goods/129124029', 'https://www.yes24.com/Product/Goods/122120495', 'https://www.yes24.com/Product/Goods/126590468', 'https://www.yes24.com/Product/Goods/131141187', 'https://www.yes24.com/Product/Goods/124225606', 'https://www.yes24.com/Product/Goods/131929977', 'https://www.yes24.com/Product/Goods/131169928', 'https://www.yes24.com/Product/Goods/126845471', 'https://www.yes24.com/Product/Goods/130169010', 'https://www.yes24.com/Product/Goods/123930880', 'https://www.yes24.com/Product/Goods/130104021', 'https://www.yes24.com/Product/Goods/125285962', 'https://www.yes24.com/Product/Goods/130137454', 'https://www.yes24.com/Product/Goods/132560925', 'https://www.yes24.com/Product/Goods/129868692', 'https://www.yes24.com/Product/Goods/123930891', 'https://www.yes24.com/Product/Goods/23030284', 'https://www.yes24.com/Product/Goods/101864763', 'https://www.yes24.com/Product/Goods/129868701', 'https://www.yes24.com/Product/Goods/126702038', 'https://www.yes24.com/Product/Goods/130697449', 'https://www.yes24.com/Product/Goods/131143825', 'https://www.yes24.com/Product/Goods/125992096', 'https://www.yes24.com/Product/Goods/129868658', 'https://www.yes24.com/Product/Goods/132549254', 'https://www.yes24.com/Product/Goods/130282007', 'https://www.yes24.com/Product/Goods/130339184', 'https://www.yes24.com/Product/Goods/67362730', 'https://www.yes24.com/Product/Goods/124622440', 'https://www.yes24.com/Product/Goods/125005783', 'https://www.yes24.com/Product/Goods/2312211', 'https://www.yes24.com/Product/Goods/129392318', 'https://www.yes24.com/Product/Goods/129132125', 'https://www.yes24.com/Product/Goods/126516935', 'https://www.yes24.com/Product/Goods/125295101', 'https://www.yes24.com/Product/Goods/11081680', 'https://www.yes24.com/Product/Goods/104663596', 'https://www.yes24.com/Product/Goods/2944911', 'https://www.yes24.com/Product/Goods/131206997', 'https://www.yes24.com/Product/Goods/102791425', 'https://www.yes24.com/Product/Goods/123675187', 'https://www.yes24.com/Product/Goods/131927753']\n"
     ]
    }
   ],
   "source": [
    "import time\n",
    "\n",
    "link_list = []\n",
    "#3페이지 까지의 링크데이터 전부 수집\n",
    "for i in range(1,4):\n",
    "    url = f'https://www.yes24.com/Product/Category/BestSeller?categoryNumber=001&pageNumber={i}&pageSize=24'\n",
    "    browser.get(url)\n",
    "\n",
    "    datas = browser.find_elements(By.CLASS_NAME, 'gd_name') #elements : 리스트\n",
    "\n",
    "    for i in datas:\n",
    "        link = i.get_attribute('href')\n",
    "        link_list.append(link)\n",
    "\n",
    "    time.sleep(3)\n",
    "\n",
    "print(link_list)"
   ]
  },
  {
   "cell_type": "code",
   "execution_count": 28,
   "metadata": {},
   "outputs": [
    {
     "data": {
      "text/plain": [
       "72"
      ]
     },
     "execution_count": 28,
     "metadata": {},
     "output_type": "execute_result"
    }
   ],
   "source": [
    "len(link_list)"
   ]
  },
  {
   "cell_type": "code",
   "execution_count": null,
   "metadata": {},
   "outputs": [
    {
     "name": "stdout",
     "output_type": "stream",
     "text": [
      "67\n"
     ]
    }
   ],
   "source": [
    "\n",
    "#for link in link_list :\n",
    "#    #상세 페이지로 이동\n",
    "#    browser.get(link)\n",
    "\n",
    "browser.get(link_list[1])\n",
    "\n",
    "title = browser.find_element(By.CLASS_NAME, 'gd_name').text\n",
    "author = browser.find_element(By.CLASS_NAME, 'gd_auth').text\n",
    "publisher = browser.find_element(By.CLASS_NAME, 'gd_pub').text\n",
    "publishing = browser.find_element(By.CLASS_NAME, 'gd_date').text\n",
    "rating = browser.find_element(By.CLASS_NAME, 'yes_b').text\n",
    "review = browser.find_element(By.CLASS_NAME, 'txC_blue').text\n",
    "sales = browser.find_element(By.CLASS_NAME, 'gd_sellNum').text.split(\" \")[2]\n",
    "price = browser.find_element(By.CLASS_NAME, 'yes_m').text[:-1]\n",
    "ranking = browser.find_element(By.CLASS_NAME, 'gd_best').text.split(\" | \")[1].split(\" \")[1][:-1]\n",
    "ranking_weeks = browser.find_element(By.CLASS_NAME, 'gd_best').text.split(\" | \")[1].split(\" \")[2][:-1]\n",
    "\n",
    "print(review)"
   ]
  },
  {
   "cell_type": "code",
   "execution_count": 20,
   "metadata": {},
   "outputs": [
    {
     "ename": "NoSuchElementException",
     "evalue": "Message: no such element: Unable to locate element: {\"method\":\"css selector\",\"selector\":\".txC_blue\"}\n  (Session info: chrome=127.0.6533.120); For documentation on this error, please visit: https://www.selenium.dev/documentation/webdriver/troubleshooting/errors#no-such-element-exception\nStacktrace:\n0   chromedriver                        0x000000010d8638b8 chromedriver + 5179576\n1   chromedriver                        0x000000010d85b2ea chromedriver + 5145322\n2   chromedriver                        0x000000010d3d22b0 chromedriver + 389808\n3   chromedriver                        0x000000010d41e3e1 chromedriver + 701409\n4   chromedriver                        0x000000010d41e691 chromedriver + 702097\n5   chromedriver                        0x000000010d412f56 chromedriver + 655190\n6   chromedriver                        0x000000010d4407dd chromedriver + 841693\n7   chromedriver                        0x000000010d412e58 chromedriver + 654936\n8   chromedriver                        0x000000010d44096e chromedriver + 842094\n9   chromedriver                        0x000000010d45db9b chromedriver + 961435\n10  chromedriver                        0x000000010d440553 chromedriver + 841043\n11  chromedriver                        0x000000010d4117f6 chromedriver + 649206\n12  chromedriver                        0x000000010d41205e chromedriver + 651358\n13  chromedriver                        0x000000010d826b20 chromedriver + 4930336\n14  chromedriver                        0x000000010d82ba36 chromedriver + 4950582\n15  chromedriver                        0x000000010d82c105 chromedriver + 4952325\n16  chromedriver                        0x000000010d808ee9 chromedriver + 4808425\n17  chromedriver                        0x000000010d82c3f9 chromedriver + 4953081\n18  chromedriver                        0x000000010d7fa844 chromedriver + 4749380\n19  chromedriver                        0x000000010d84b5c8 chromedriver + 5080520\n20  chromedriver                        0x000000010d84b787 chromedriver + 5080967\n21  chromedriver                        0x000000010d85aece chromedriver + 5144270\n22  libsystem_pthread.dylib             0x00007ff80e81618b _pthread_start + 99\n23  libsystem_pthread.dylib             0x00007ff80e811ae3 thread_start + 15\n",
     "output_type": "error",
     "traceback": [
      "\u001b[0;31m---------------------------------------------------------------------------\u001b[0m",
      "\u001b[0;31mNoSuchElementException\u001b[0m                    Traceback (most recent call last)",
      "Cell \u001b[0;32mIn[20], line 36\u001b[0m\n\u001b[1;32m     32\u001b[0m     publishing \u001b[38;5;241m=\u001b[39m\u001b[38;5;124m\"\u001b[39m\u001b[38;5;124m2024-01-01\u001b[39m\u001b[38;5;124m\"\u001b[39m\n\u001b[1;32m     34\u001b[0m rating \u001b[38;5;241m=\u001b[39m browser\u001b[38;5;241m.\u001b[39mfind_element(By\u001b[38;5;241m.\u001b[39mCLASS_NAME, \u001b[38;5;124m'\u001b[39m\u001b[38;5;124myes_b\u001b[39m\u001b[38;5;124m'\u001b[39m)\u001b[38;5;241m.\u001b[39mtext\n\u001b[0;32m---> 36\u001b[0m review \u001b[38;5;241m=\u001b[39m \u001b[43mbrowser\u001b[49m\u001b[38;5;241;43m.\u001b[39;49m\u001b[43mfind_element\u001b[49m\u001b[43m(\u001b[49m\u001b[43mBy\u001b[49m\u001b[38;5;241;43m.\u001b[39;49m\u001b[43mCLASS_NAME\u001b[49m\u001b[43m,\u001b[49m\u001b[43m \u001b[49m\u001b[38;5;124;43m'\u001b[39;49m\u001b[38;5;124;43mgd_reviewCount\u001b[39;49m\u001b[38;5;124;43m'\u001b[39;49m\u001b[43m)\u001b[49m\u001b[38;5;241;43m.\u001b[39;49m\u001b[43mfind_element\u001b[49m\u001b[43m(\u001b[49m\u001b[43mBy\u001b[49m\u001b[38;5;241;43m.\u001b[39;49m\u001b[43mCLASS_NAME\u001b[49m\u001b[43m,\u001b[49m\u001b[43m \u001b[49m\u001b[38;5;124;43m'\u001b[39;49m\u001b[38;5;124;43mtxC_blue\u001b[39;49m\u001b[38;5;124;43m'\u001b[39;49m\u001b[43m)\u001b[49m\u001b[38;5;241m.\u001b[39mtext\u001b[38;5;241m.\u001b[39mreplace(\u001b[38;5;124m'\u001b[39m\u001b[38;5;124m,\u001b[39m\u001b[38;5;124m'\u001b[39m,\u001b[38;5;124m'\u001b[39m\u001b[38;5;124m'\u001b[39m)\n\u001b[1;32m     37\u001b[0m review \u001b[38;5;241m=\u001b[39m \u001b[38;5;28mint\u001b[39m(review\u001b[38;5;241m.\u001b[39mreplace(\u001b[38;5;124m\"\u001b[39m\u001b[38;5;124m,\u001b[39m\u001b[38;5;124m\"\u001b[39m, \u001b[38;5;124m\"\u001b[39m\u001b[38;5;124m\"\u001b[39m))\n\u001b[1;32m     39\u001b[0m sales \u001b[38;5;241m=\u001b[39m browser\u001b[38;5;241m.\u001b[39mfind_element(By\u001b[38;5;241m.\u001b[39mCLASS_NAME, \u001b[38;5;124m'\u001b[39m\u001b[38;5;124mgd_sellNum\u001b[39m\u001b[38;5;124m'\u001b[39m)\u001b[38;5;241m.\u001b[39mtext\u001b[38;5;241m.\u001b[39msplit(\u001b[38;5;124m\"\u001b[39m\u001b[38;5;124m \u001b[39m\u001b[38;5;124m\"\u001b[39m)[\u001b[38;5;241m2\u001b[39m]\n",
      "File \u001b[0;32m~/.pyenv/versions/3.9.7/lib/python3.9/site-packages/selenium/webdriver/remote/webelement.py:417\u001b[0m, in \u001b[0;36mWebElement.find_element\u001b[0;34m(self, by, value)\u001b[0m\n\u001b[1;32m    414\u001b[0m     by \u001b[38;5;241m=\u001b[39m By\u001b[38;5;241m.\u001b[39mCSS_SELECTOR\n\u001b[1;32m    415\u001b[0m     value \u001b[38;5;241m=\u001b[39m \u001b[38;5;124mf\u001b[39m\u001b[38;5;124m'\u001b[39m\u001b[38;5;124m[name=\u001b[39m\u001b[38;5;124m\"\u001b[39m\u001b[38;5;132;01m{\u001b[39;00mvalue\u001b[38;5;132;01m}\u001b[39;00m\u001b[38;5;124m\"\u001b[39m\u001b[38;5;124m]\u001b[39m\u001b[38;5;124m'\u001b[39m\n\u001b[0;32m--> 417\u001b[0m \u001b[38;5;28;01mreturn\u001b[39;00m \u001b[38;5;28;43mself\u001b[39;49m\u001b[38;5;241;43m.\u001b[39;49m\u001b[43m_execute\u001b[49m\u001b[43m(\u001b[49m\u001b[43mCommand\u001b[49m\u001b[38;5;241;43m.\u001b[39;49m\u001b[43mFIND_CHILD_ELEMENT\u001b[49m\u001b[43m,\u001b[49m\u001b[43m \u001b[49m\u001b[43m{\u001b[49m\u001b[38;5;124;43m\"\u001b[39;49m\u001b[38;5;124;43musing\u001b[39;49m\u001b[38;5;124;43m\"\u001b[39;49m\u001b[43m:\u001b[49m\u001b[43m \u001b[49m\u001b[43mby\u001b[49m\u001b[43m,\u001b[49m\u001b[43m \u001b[49m\u001b[38;5;124;43m\"\u001b[39;49m\u001b[38;5;124;43mvalue\u001b[39;49m\u001b[38;5;124;43m\"\u001b[39;49m\u001b[43m:\u001b[49m\u001b[43m \u001b[49m\u001b[43mvalue\u001b[49m\u001b[43m}\u001b[49m\u001b[43m)\u001b[49m[\u001b[38;5;124m\"\u001b[39m\u001b[38;5;124mvalue\u001b[39m\u001b[38;5;124m\"\u001b[39m]\n",
      "File \u001b[0;32m~/.pyenv/versions/3.9.7/lib/python3.9/site-packages/selenium/webdriver/remote/webelement.py:395\u001b[0m, in \u001b[0;36mWebElement._execute\u001b[0;34m(self, command, params)\u001b[0m\n\u001b[1;32m    393\u001b[0m     params \u001b[38;5;241m=\u001b[39m {}\n\u001b[1;32m    394\u001b[0m params[\u001b[38;5;124m\"\u001b[39m\u001b[38;5;124mid\u001b[39m\u001b[38;5;124m\"\u001b[39m] \u001b[38;5;241m=\u001b[39m \u001b[38;5;28mself\u001b[39m\u001b[38;5;241m.\u001b[39m_id\n\u001b[0;32m--> 395\u001b[0m \u001b[38;5;28;01mreturn\u001b[39;00m \u001b[38;5;28;43mself\u001b[39;49m\u001b[38;5;241;43m.\u001b[39;49m\u001b[43m_parent\u001b[49m\u001b[38;5;241;43m.\u001b[39;49m\u001b[43mexecute\u001b[49m\u001b[43m(\u001b[49m\u001b[43mcommand\u001b[49m\u001b[43m,\u001b[49m\u001b[43m \u001b[49m\u001b[43mparams\u001b[49m\u001b[43m)\u001b[49m\n",
      "File \u001b[0;32m~/.pyenv/versions/3.9.7/lib/python3.9/site-packages/selenium/webdriver/remote/webdriver.py:354\u001b[0m, in \u001b[0;36mWebDriver.execute\u001b[0;34m(self, driver_command, params)\u001b[0m\n\u001b[1;32m    352\u001b[0m response \u001b[38;5;241m=\u001b[39m \u001b[38;5;28mself\u001b[39m\u001b[38;5;241m.\u001b[39mcommand_executor\u001b[38;5;241m.\u001b[39mexecute(driver_command, params)\n\u001b[1;32m    353\u001b[0m \u001b[38;5;28;01mif\u001b[39;00m response:\n\u001b[0;32m--> 354\u001b[0m     \u001b[38;5;28;43mself\u001b[39;49m\u001b[38;5;241;43m.\u001b[39;49m\u001b[43merror_handler\u001b[49m\u001b[38;5;241;43m.\u001b[39;49m\u001b[43mcheck_response\u001b[49m\u001b[43m(\u001b[49m\u001b[43mresponse\u001b[49m\u001b[43m)\u001b[49m\n\u001b[1;32m    355\u001b[0m     response[\u001b[38;5;124m\"\u001b[39m\u001b[38;5;124mvalue\u001b[39m\u001b[38;5;124m\"\u001b[39m] \u001b[38;5;241m=\u001b[39m \u001b[38;5;28mself\u001b[39m\u001b[38;5;241m.\u001b[39m_unwrap_value(response\u001b[38;5;241m.\u001b[39mget(\u001b[38;5;124m\"\u001b[39m\u001b[38;5;124mvalue\u001b[39m\u001b[38;5;124m\"\u001b[39m, \u001b[38;5;28;01mNone\u001b[39;00m))\n\u001b[1;32m    356\u001b[0m     \u001b[38;5;28;01mreturn\u001b[39;00m response\n",
      "File \u001b[0;32m~/.pyenv/versions/3.9.7/lib/python3.9/site-packages/selenium/webdriver/remote/errorhandler.py:229\u001b[0m, in \u001b[0;36mErrorHandler.check_response\u001b[0;34m(self, response)\u001b[0m\n\u001b[1;32m    227\u001b[0m         alert_text \u001b[38;5;241m=\u001b[39m value[\u001b[38;5;124m\"\u001b[39m\u001b[38;5;124malert\u001b[39m\u001b[38;5;124m\"\u001b[39m]\u001b[38;5;241m.\u001b[39mget(\u001b[38;5;124m\"\u001b[39m\u001b[38;5;124mtext\u001b[39m\u001b[38;5;124m\"\u001b[39m)\n\u001b[1;32m    228\u001b[0m     \u001b[38;5;28;01mraise\u001b[39;00m exception_class(message, screen, stacktrace, alert_text)  \u001b[38;5;66;03m# type: ignore[call-arg]  # mypy is not smart enough here\u001b[39;00m\n\u001b[0;32m--> 229\u001b[0m \u001b[38;5;28;01mraise\u001b[39;00m exception_class(message, screen, stacktrace)\n",
      "\u001b[0;31mNoSuchElementException\u001b[0m: Message: no such element: Unable to locate element: {\"method\":\"css selector\",\"selector\":\".txC_blue\"}\n  (Session info: chrome=127.0.6533.120); For documentation on this error, please visit: https://www.selenium.dev/documentation/webdriver/troubleshooting/errors#no-such-element-exception\nStacktrace:\n0   chromedriver                        0x000000010d8638b8 chromedriver + 5179576\n1   chromedriver                        0x000000010d85b2ea chromedriver + 5145322\n2   chromedriver                        0x000000010d3d22b0 chromedriver + 389808\n3   chromedriver                        0x000000010d41e3e1 chromedriver + 701409\n4   chromedriver                        0x000000010d41e691 chromedriver + 702097\n5   chromedriver                        0x000000010d412f56 chromedriver + 655190\n6   chromedriver                        0x000000010d4407dd chromedriver + 841693\n7   chromedriver                        0x000000010d412e58 chromedriver + 654936\n8   chromedriver                        0x000000010d44096e chromedriver + 842094\n9   chromedriver                        0x000000010d45db9b chromedriver + 961435\n10  chromedriver                        0x000000010d440553 chromedriver + 841043\n11  chromedriver                        0x000000010d4117f6 chromedriver + 649206\n12  chromedriver                        0x000000010d41205e chromedriver + 651358\n13  chromedriver                        0x000000010d826b20 chromedriver + 4930336\n14  chromedriver                        0x000000010d82ba36 chromedriver + 4950582\n15  chromedriver                        0x000000010d82c105 chromedriver + 4952325\n16  chromedriver                        0x000000010d808ee9 chromedriver + 4808425\n17  chromedriver                        0x000000010d82c3f9 chromedriver + 4953081\n18  chromedriver                        0x000000010d7fa844 chromedriver + 4749380\n19  chromedriver                        0x000000010d84b5c8 chromedriver + 5080520\n20  chromedriver                        0x000000010d84b787 chromedriver + 5080967\n21  chromedriver                        0x000000010d85aece chromedriver + 5144270\n22  libsystem_pthread.dylib             0x00007ff80e81618b _pthread_start + 99\n23  libsystem_pthread.dylib             0x00007ff80e811ae3 thread_start + 15\n"
     ]
    }
   ],
   "source": [
    "# 데이터 베이스 연동 후 -> 수집한 데이터를 DB에 저장 (csv)\n",
    "import pymysql # pip install pymysql\n",
    "import time\n",
    "import re\n",
    "from datetime import datetime\n",
    "\n",
    "conn = pymysql.connect(\n",
    "    host='localhost',\n",
    "    user='root',\n",
    "    password='208300',\n",
    "    db='yes24',\n",
    "    charset='utf8mb4',\n",
    "    cursorclass=pymysql.cursors.DictCursor\n",
    ")\n",
    "\n",
    "with conn.cursor() as cur:\n",
    "    for link in link_list:\n",
    "        browser.get(link)\n",
    "        title = browser.find_element(By.CLASS_NAME, 'gd_name').text\n",
    "        author = browser.find_element(By.CLASS_NAME, 'gd_auth').text\n",
    "        publisher = browser.find_element(By.CLASS_NAME, 'gd_pub').text\n",
    "        # 2024년 8월 26일 -> 2023-08-26\n",
    "        publishing = browser.find_element(By.CLASS_NAME, 'gd_date').text\n",
    "        \n",
    "        match = re.search(r'(\\d+)년 (\\d+)월 (\\d+)일', publishing)\n",
    "        \n",
    "        if match:\n",
    "            year, month, day = match.groups()\n",
    "            data_obj = datetime(int(year), int(month), int(day))\n",
    "            publishing = data_obj.strftime(\"%Y-%m-%d\")\n",
    "        else:\n",
    "            publishing =\"2024-01-01\"\n",
    "\n",
    "        rating = browser.find_element(By.CLASS_NAME, 'yes_b').text\n",
    "\n",
    "        try:\n",
    "            review_element = browser.find_element(By.CLASS_NAME, 'gd_reviewCount')\n",
    "            review = review_element.find_element(By.CLASS_NAME, 'txC_blue').text.replace(',', '')\n",
    "            review = int(review)\n",
    "        except:\n",
    "            review = 0  # 또는 적절한 기본값 설정\n",
    "        sales = browser.find_element(By.CLASS_NAME, 'gd_sellNum').text.split(\" \")[2]\n",
    "        sales = int(sales.replace(\",\", \"\"))\n",
    "\n",
    "        price = browser.find_element(By.CLASS_NAME, 'yes_m').text[:-1]\n",
    "        price = int(price.replace(\",\", \"\"))\n",
    "\n",
    "        \n",
    "\n",
    "        number_1 = browser.find_element(By.CLASS_NAME, 'gd_best').text.split(\" | \")[1].split(\" \")[1][:-1]\n",
    "        ranking = re.findall(r'\\d+', number_1)\n",
    "        number_2 = browser.find_element(By.CLASS_NAME, 'gd_best').text.split(\" | \")[1].split(\" \")[1][:-1]\n",
    "        ranking_weeks = re.findall(r'\\d+', number_2)\n",
    "\n",
    "\n",
    "        sql = \"\"\" INSERT INTO Books\n",
    "        (title, author, publisher, publishing, rating, review, sales, price, ranking, ranking_weeks\n",
    "        )\n",
    "        VALUES(\n",
    "        %s, %s, %s, %s, %s, %s, %s, %s, %s, %s\n",
    "        )\n",
    "        \"\"\"\n",
    "\n",
    "        cur.execute(sql, (title, author, publisher, publishing, rating, review, sales, price, ranking, ranking_weeks))\n",
    "        conn.commit()\n",
    "        time.sleep(2)"
   ]
  },
  {
   "cell_type": "code",
   "execution_count": null,
   "metadata": {},
   "outputs": [],
   "source": [
    "import re\n",
    "from datetime import datetime\n",
    "import pymysql\n",
    "\n",
    "conn = pymysql.connect(\n",
    "    host = 'localhost',\n",
    "    user='root',\n",
    "    password='208300',\n",
    "    db='yes24',\n",
    "    charset='utf8mb4',\n",
    "    cursorclass=pymysql.cursors.DictCursor\n",
    ")\n",
    "\n",
    "def sql_execute(sql, *args) :\n",
    "    with conn.cursor() as cursor :\n",
    "        cursor.execute(sql,*args)\n",
    "        if 'select' in sql.lower() :\n",
    "            return cursor.fetchall()\n",
    "        conn.commit()\n",
    "\n",
    "fail_list = []\n",
    "sql = \"\"\"\n",
    "        INSERT INTO Books(title, author,publisher,publishing,rating,review, sales,price,ranking,ranking_weeks)\n",
    "        VALUES(%s,%s,%s,%s,%s,%s,%s,%s,%s,%s)\n",
    "        \"\"\"\n",
    "for page_num in range(1,10) :\n",
    "    print('페이지 번호 :',page_num)\n",
    "    browser.get(f\"https://www.yes24.com/Product/Category/BestSeller?categoryNumber=001&pageNumber={page_num}&pageSize=24\")\n",
    "    browser.implicitly_wait(time_to_wait=10) \n",
    "    book_list = browser.find_element(By.ID, 'yesBestList').find_elements(By.CLASS_NAME, 'itemUnit')\n",
    "    for i in range(len(book_list)) :\n",
    "        book_list[i].find_element(By.CLASS_NAME, 'gd_name').click()\n",
    "        browser.implicitly_wait(time_to_wait=10) \n",
    "        try :\n",
    "            title = browser.find_element(By.CLASS_NAME, 'gd_name').text\n",
    "        except : \n",
    "            fail_list.append(i)\n",
    "            continue\n",
    "        try :\n",
    "            author = browser.find_element(By.CLASS_NAME, 'gd_auth').text\n",
    "        except : \n",
    "            fail_list.append(i)\n",
    "            continue\n",
    "        try :\n",
    "            publisher = browser.find_element(By.CLASS_NAME, 'gd_pub').text\n",
    "        except : \n",
    "            fail_list.append(i)\n",
    "            continue\n",
    "        try : \n",
    "            publishing = browser.find_element(By.CLASS_NAME, 'gd_date').text\n",
    "            match = re.search(r'(\\d+)년 (\\d+)월 (\\d+)일', publishing)\n",
    "            if match :\n",
    "                year, month, day = match.groups()\n",
    "                date_data = datetime(int(year), int(month), int(day))\n",
    "                publishing = date_data.strftime('%Y-%m-%d')\n",
    "            else :\n",
    "                date_data = datetime(int(1111), int(11), int(11))\n",
    "                publishing = date_data.strftime('%Y-%m-%d')\n",
    "        except : \n",
    "            fail_list.append(i)\n",
    "            continue\n",
    "        try :\n",
    "            rating = browser.find_element(By.CLASS_NAME, 'gd_rating').find_element(By.CLASS_NAME,'yes_b').text\n",
    "        except : \n",
    "            rating = '0.0'\n",
    "        try :\n",
    "            review = browser.find_element(By.CLASS_NAME, 'gd_reviewCount').find_element(By.CLASS_NAME, 'txC_blue').text.replace(',','')\n",
    "        except : \n",
    "            review = '0'\n",
    "        try :\n",
    "            sales = browser.find_element(By.CLASS_NAME, 'gd_sellNum').text.split(' ')[2].replace(',','')\n",
    "        except : \n",
    "            sales = '0'\n",
    "        try :\n",
    "            price = browser.find_element(By.CLASS_NAME, 'nor_price').find_element(By.CLASS_NAME, 'yes_m').text.replace(',','')\n",
    "        except : \n",
    "            fail_list.append(i)\n",
    "            continue\n",
    "        try :\n",
    "            ranking = browser.find_element(By.CLASS_NAME, 'gd_best_tp02').text.split(' | ')[0]\n",
    "            ranking = ''.join(filter(str.isdigit,ranking))\n",
    "        except : \n",
    "            fail_list.append(i)\n",
    "            continue\n",
    "        try :\n",
    "            ranking_weeks = browser.find_element(By.CLASS_NAME, 'gd_best_tp02').text.split(' | ')[1]\n",
    "            ranking_weeks = ''.join(filter(str.isdigit,ranking_weeks))\n",
    "        except : \n",
    "            ranking_weeks = '0'\n",
    "        browser.back()\n",
    "        browser.implicitly_wait(time_to_wait=10) \n",
    "        sql_execute(sql, (title, author, publisher, publishing, rating, review, sales, price, ranking, ranking_weeks))\n",
    "        print('저장 정보 :',title, author, publisher, publishing, rating, review, sales, price, ranking, ranking_weeks)\n"
   ]
  }
 ],
 "metadata": {
  "kernelspec": {
   "display_name": "Python 3",
   "language": "python",
   "name": "python3"
  },
  "language_info": {
   "codemirror_mode": {
    "name": "ipython",
    "version": 3
   },
   "file_extension": ".py",
   "mimetype": "text/x-python",
   "name": "python",
   "nbconvert_exporter": "python",
   "pygments_lexer": "ipython3",
   "version": "3.9.7"
  }
 },
 "nbformat": 4,
 "nbformat_minor": 2
}
