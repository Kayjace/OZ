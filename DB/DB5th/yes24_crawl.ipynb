{
 "cells": [
  {
   "cell_type": "code",
   "execution_count": 5,
   "metadata": {},
   "outputs": [
    {
     "data": {
      "text/plain": [
       "'/Users/mac/.wdm/drivers/chromedriver/mac64/127.0.6533.119/chromedriver-mac-x64/chromedriver'"
      ]
     },
     "execution_count": 5,
     "metadata": {},
     "output_type": "execute_result"
    }
   ],
   "source": [
    "#webdriver-manager library import\n",
    "from webdriver_manager.chrome import ChromeDriverManager\n",
    "ChromeDriverManager().install()"
   ]
  },
  {
   "cell_type": "code",
   "execution_count": 1,
   "metadata": {},
   "outputs": [],
   "source": [
    "from selenium import webdriver\n",
    "browser = webdriver.Chrome()"
   ]
  },
  {
   "cell_type": "code",
   "execution_count": 15,
   "metadata": {},
   "outputs": [],
   "source": [
    "url = 'https://www.google.com'\n",
    "browser.get(url)"
   ]
  },
  {
   "cell_type": "code",
   "execution_count": 6,
   "metadata": {},
   "outputs": [
    {
     "ename": "NoSuchElementException",
     "evalue": "Message: no such element: Unable to locate element: {\"method\":\"css selector\",\"selector\":\".uU7dJb\"}\n  (Session info: chrome=127.0.6533.120); For documentation on this error, please visit: https://www.selenium.dev/documentation/webdriver/troubleshooting/errors#no-such-element-exception\nStacktrace:\n0   chromedriver                        0x000000010d8638b8 chromedriver + 5179576\n1   chromedriver                        0x000000010d85b2ea chromedriver + 5145322\n2   chromedriver                        0x000000010d3d22b0 chromedriver + 389808\n3   chromedriver                        0x000000010d41e3e1 chromedriver + 701409\n4   chromedriver                        0x000000010d41e691 chromedriver + 702097\n5   chromedriver                        0x000000010d460464 chromedriver + 971876\n6   chromedriver                        0x000000010d4407dd chromedriver + 841693\n7   chromedriver                        0x000000010d45db9b chromedriver + 961435\n8   chromedriver                        0x000000010d440553 chromedriver + 841043\n9   chromedriver                        0x000000010d4117f6 chromedriver + 649206\n10  chromedriver                        0x000000010d41205e chromedriver + 651358\n11  chromedriver                        0x000000010d826b20 chromedriver + 4930336\n12  chromedriver                        0x000000010d82ba36 chromedriver + 4950582\n13  chromedriver                        0x000000010d82c105 chromedriver + 4952325\n14  chromedriver                        0x000000010d808ee9 chromedriver + 4808425\n15  chromedriver                        0x000000010d82c3f9 chromedriver + 4953081\n16  chromedriver                        0x000000010d7fa844 chromedriver + 4749380\n17  chromedriver                        0x000000010d84b5c8 chromedriver + 5080520\n18  chromedriver                        0x000000010d84b787 chromedriver + 5080967\n19  chromedriver                        0x000000010d85aece chromedriver + 5144270\n20  libsystem_pthread.dylib             0x00007ff80e81618b _pthread_start + 99\n21  libsystem_pthread.dylib             0x00007ff80e811ae3 thread_start + 15\n",
     "output_type": "error",
     "traceback": [
      "\u001b[0;31m---------------------------------------------------------------------------\u001b[0m",
      "\u001b[0;31mNoSuchElementException\u001b[0m                    Traceback (most recent call last)",
      "Cell \u001b[0;32mIn[6], line 2\u001b[0m\n\u001b[1;32m      1\u001b[0m \u001b[38;5;28;01mfrom\u001b[39;00m \u001b[38;5;21;01mselenium\u001b[39;00m\u001b[38;5;21;01m.\u001b[39;00m\u001b[38;5;21;01mwebdriver\u001b[39;00m\u001b[38;5;21;01m.\u001b[39;00m\u001b[38;5;21;01mcommon\u001b[39;00m\u001b[38;5;21;01m.\u001b[39;00m\u001b[38;5;21;01mby\u001b[39;00m \u001b[38;5;28;01mimport\u001b[39;00m By\n\u001b[0;32m----> 2\u001b[0m \u001b[43mbrowser\u001b[49m\u001b[38;5;241;43m.\u001b[39;49m\u001b[43mfind_element\u001b[49m\u001b[43m(\u001b[49m\u001b[43mBy\u001b[49m\u001b[38;5;241;43m.\u001b[39;49m\u001b[43mCLASS_NAME\u001b[49m\u001b[43m,\u001b[49m\u001b[43m \u001b[49m\u001b[38;5;124;43m'\u001b[39;49m\u001b[38;5;124;43muU7dJb\u001b[39;49m\u001b[38;5;124;43m'\u001b[39;49m\u001b[43m)\u001b[49m\u001b[38;5;241m.\u001b[39mtext\n",
      "File \u001b[0;32m~/.pyenv/versions/3.9.7/lib/python3.9/site-packages/selenium/webdriver/remote/webdriver.py:748\u001b[0m, in \u001b[0;36mWebDriver.find_element\u001b[0;34m(self, by, value)\u001b[0m\n\u001b[1;32m    745\u001b[0m     by \u001b[38;5;241m=\u001b[39m By\u001b[38;5;241m.\u001b[39mCSS_SELECTOR\n\u001b[1;32m    746\u001b[0m     value \u001b[38;5;241m=\u001b[39m \u001b[38;5;124mf\u001b[39m\u001b[38;5;124m'\u001b[39m\u001b[38;5;124m[name=\u001b[39m\u001b[38;5;124m\"\u001b[39m\u001b[38;5;132;01m{\u001b[39;00mvalue\u001b[38;5;132;01m}\u001b[39;00m\u001b[38;5;124m\"\u001b[39m\u001b[38;5;124m]\u001b[39m\u001b[38;5;124m'\u001b[39m\n\u001b[0;32m--> 748\u001b[0m \u001b[38;5;28;01mreturn\u001b[39;00m \u001b[38;5;28;43mself\u001b[39;49m\u001b[38;5;241;43m.\u001b[39;49m\u001b[43mexecute\u001b[49m\u001b[43m(\u001b[49m\u001b[43mCommand\u001b[49m\u001b[38;5;241;43m.\u001b[39;49m\u001b[43mFIND_ELEMENT\u001b[49m\u001b[43m,\u001b[49m\u001b[43m \u001b[49m\u001b[43m{\u001b[49m\u001b[38;5;124;43m\"\u001b[39;49m\u001b[38;5;124;43musing\u001b[39;49m\u001b[38;5;124;43m\"\u001b[39;49m\u001b[43m:\u001b[49m\u001b[43m \u001b[49m\u001b[43mby\u001b[49m\u001b[43m,\u001b[49m\u001b[43m \u001b[49m\u001b[38;5;124;43m\"\u001b[39;49m\u001b[38;5;124;43mvalue\u001b[39;49m\u001b[38;5;124;43m\"\u001b[39;49m\u001b[43m:\u001b[49m\u001b[43m \u001b[49m\u001b[43mvalue\u001b[49m\u001b[43m}\u001b[49m\u001b[43m)\u001b[49m[\u001b[38;5;124m\"\u001b[39m\u001b[38;5;124mvalue\u001b[39m\u001b[38;5;124m\"\u001b[39m]\n",
      "File \u001b[0;32m~/.pyenv/versions/3.9.7/lib/python3.9/site-packages/selenium/webdriver/remote/webdriver.py:354\u001b[0m, in \u001b[0;36mWebDriver.execute\u001b[0;34m(self, driver_command, params)\u001b[0m\n\u001b[1;32m    352\u001b[0m response \u001b[38;5;241m=\u001b[39m \u001b[38;5;28mself\u001b[39m\u001b[38;5;241m.\u001b[39mcommand_executor\u001b[38;5;241m.\u001b[39mexecute(driver_command, params)\n\u001b[1;32m    353\u001b[0m \u001b[38;5;28;01mif\u001b[39;00m response:\n\u001b[0;32m--> 354\u001b[0m     \u001b[38;5;28;43mself\u001b[39;49m\u001b[38;5;241;43m.\u001b[39;49m\u001b[43merror_handler\u001b[49m\u001b[38;5;241;43m.\u001b[39;49m\u001b[43mcheck_response\u001b[49m\u001b[43m(\u001b[49m\u001b[43mresponse\u001b[49m\u001b[43m)\u001b[49m\n\u001b[1;32m    355\u001b[0m     response[\u001b[38;5;124m\"\u001b[39m\u001b[38;5;124mvalue\u001b[39m\u001b[38;5;124m\"\u001b[39m] \u001b[38;5;241m=\u001b[39m \u001b[38;5;28mself\u001b[39m\u001b[38;5;241m.\u001b[39m_unwrap_value(response\u001b[38;5;241m.\u001b[39mget(\u001b[38;5;124m\"\u001b[39m\u001b[38;5;124mvalue\u001b[39m\u001b[38;5;124m\"\u001b[39m, \u001b[38;5;28;01mNone\u001b[39;00m))\n\u001b[1;32m    356\u001b[0m     \u001b[38;5;28;01mreturn\u001b[39;00m response\n",
      "File \u001b[0;32m~/.pyenv/versions/3.9.7/lib/python3.9/site-packages/selenium/webdriver/remote/errorhandler.py:229\u001b[0m, in \u001b[0;36mErrorHandler.check_response\u001b[0;34m(self, response)\u001b[0m\n\u001b[1;32m    227\u001b[0m         alert_text \u001b[38;5;241m=\u001b[39m value[\u001b[38;5;124m\"\u001b[39m\u001b[38;5;124malert\u001b[39m\u001b[38;5;124m\"\u001b[39m]\u001b[38;5;241m.\u001b[39mget(\u001b[38;5;124m\"\u001b[39m\u001b[38;5;124mtext\u001b[39m\u001b[38;5;124m\"\u001b[39m)\n\u001b[1;32m    228\u001b[0m     \u001b[38;5;28;01mraise\u001b[39;00m exception_class(message, screen, stacktrace, alert_text)  \u001b[38;5;66;03m# type: ignore[call-arg]  # mypy is not smart enough here\u001b[39;00m\n\u001b[0;32m--> 229\u001b[0m \u001b[38;5;28;01mraise\u001b[39;00m exception_class(message, screen, stacktrace)\n",
      "\u001b[0;31mNoSuchElementException\u001b[0m: Message: no such element: Unable to locate element: {\"method\":\"css selector\",\"selector\":\".uU7dJb\"}\n  (Session info: chrome=127.0.6533.120); For documentation on this error, please visit: https://www.selenium.dev/documentation/webdriver/troubleshooting/errors#no-such-element-exception\nStacktrace:\n0   chromedriver                        0x000000010d8638b8 chromedriver + 5179576\n1   chromedriver                        0x000000010d85b2ea chromedriver + 5145322\n2   chromedriver                        0x000000010d3d22b0 chromedriver + 389808\n3   chromedriver                        0x000000010d41e3e1 chromedriver + 701409\n4   chromedriver                        0x000000010d41e691 chromedriver + 702097\n5   chromedriver                        0x000000010d460464 chromedriver + 971876\n6   chromedriver                        0x000000010d4407dd chromedriver + 841693\n7   chromedriver                        0x000000010d45db9b chromedriver + 961435\n8   chromedriver                        0x000000010d440553 chromedriver + 841043\n9   chromedriver                        0x000000010d4117f6 chromedriver + 649206\n10  chromedriver                        0x000000010d41205e chromedriver + 651358\n11  chromedriver                        0x000000010d826b20 chromedriver + 4930336\n12  chromedriver                        0x000000010d82ba36 chromedriver + 4950582\n13  chromedriver                        0x000000010d82c105 chromedriver + 4952325\n14  chromedriver                        0x000000010d808ee9 chromedriver + 4808425\n15  chromedriver                        0x000000010d82c3f9 chromedriver + 4953081\n16  chromedriver                        0x000000010d7fa844 chromedriver + 4749380\n17  chromedriver                        0x000000010d84b5c8 chromedriver + 5080520\n18  chromedriver                        0x000000010d84b787 chromedriver + 5080967\n19  chromedriver                        0x000000010d85aece chromedriver + 5144270\n20  libsystem_pthread.dylib             0x00007ff80e81618b _pthread_start + 99\n21  libsystem_pthread.dylib             0x00007ff80e811ae3 thread_start + 15\n"
     ]
    }
   ],
   "source": [
    "from selenium.webdriver.common.by import By\n",
    "browser.find_element(By.CLASS_NAME, 'uU7dJb').text"
   ]
  },
  {
   "cell_type": "code",
   "execution_count": 2,
   "metadata": {},
   "outputs": [],
   "source": [
    "url = 'https://www.yes24.com/Product/Category/BestSeller?categoryNumber=001&pageNumber=1&pageSize=24'\n",
    "browser.get(url)"
   ]
  },
  {
   "cell_type": "code",
   "execution_count": 4,
   "metadata": {},
   "outputs": [
    {
     "ename": "NameError",
     "evalue": "name 'By' is not defined",
     "output_type": "error",
     "traceback": [
      "\u001b[0;31m---------------------------------------------------------------------------\u001b[0m",
      "\u001b[0;31mNameError\u001b[0m                                 Traceback (most recent call last)",
      "Cell \u001b[0;32mIn[4], line 2\u001b[0m\n\u001b[1;32m      1\u001b[0m \u001b[38;5;66;03m#1 페이지의 링크데이터 전부 수집\u001b[39;00m\n\u001b[0;32m----> 2\u001b[0m browser\u001b[38;5;241m.\u001b[39mfind_element(\u001b[43mBy\u001b[49m\u001b[38;5;241m.\u001b[39mCLASS_NAME, \u001b[38;5;124m'\u001b[39m\u001b[38;5;124mgd_name\u001b[39m\u001b[38;5;124m'\u001b[39m)\u001b[38;5;241m.\u001b[39mget_attribute(\u001b[38;5;124m'\u001b[39m\u001b[38;5;124mhref\u001b[39m\u001b[38;5;124m'\u001b[39m)\n\u001b[1;32m      4\u001b[0m \u001b[38;5;66;03m#browser.find_element(By.CLASS_NAME, 'gd_name') # element: 요소\u001b[39;00m\n\u001b[1;32m      5\u001b[0m datas \u001b[38;5;241m=\u001b[39m browser\u001b[38;5;241m.\u001b[39mfind_elements(By\u001b[38;5;241m.\u001b[39mCLASS_NAME, \u001b[38;5;124m'\u001b[39m\u001b[38;5;124mgd_name\u001b[39m\u001b[38;5;124m'\u001b[39m) \u001b[38;5;66;03m#elements : 리스트\u001b[39;00m\n",
      "\u001b[0;31mNameError\u001b[0m: name 'By' is not defined"
     ]
    }
   ],
   "source": [
    "#1 페이지의 링크데이터 전부 수집\n",
    "browser.find_element(By.CLASS_NAME, 'gd_name').get_attribute('href')\n",
    "\n",
    "#browser.find_element(By.CLASS_NAME, 'gd_name') # element: 요소\n",
    "datas = browser.find_elements(By.CLASS_NAME, 'gd_name') #elements : 리스트\n",
    "\n",
    "for i in datas:\n",
    "    print(i.get_attribute('href'))"
   ]
  },
  {
   "cell_type": "code",
   "execution_count": 7,
   "metadata": {},
   "outputs": [
    {
     "name": "stdout",
     "output_type": "stream",
     "text": [
      "['https://www.yes24.com/Product/Goods/102457889', 'https://www.yes24.com/Product/Goods/128266166', 'https://www.yes24.com/Product/Goods/125557465', 'https://www.yes24.com/Product/Goods/130500819', 'https://www.yes24.com/Product/Goods/104687898', 'https://www.yes24.com/Product/Goods/109145992', 'https://www.yes24.com/Product/Goods/95721612', 'https://www.yes24.com/Product/Goods/129602366', 'https://www.yes24.com/Product/Goods/124999476', 'https://www.yes24.com/Product/Goods/131930939', 'https://www.yes24.com/Product/Goods/131931234', 'https://www.yes24.com/Product/Goods/128917300', 'https://www.yes24.com/Product/Goods/117014613', 'https://www.yes24.com/Product/Goods/132560712', 'https://www.yes24.com/Product/Goods/126642929', 'https://www.yes24.com/Product/Goods/130033773', 'https://www.yes24.com/Product/Goods/132556345', 'https://www.yes24.com/Product/Goods/124043812', 'https://www.yes24.com/Product/Goods/96547408', 'https://www.yes24.com/Product/Goods/124043802', 'https://www.yes24.com/Product/Goods/128133897', 'https://www.yes24.com/Product/Goods/8759796', 'https://www.yes24.com/Product/Goods/125384743', 'https://www.yes24.com/Product/Goods/130134996', 'https://www.yes24.com/Product/Goods/127050264', 'https://www.yes24.com/Product/Goods/130135671', 'https://www.yes24.com/Product/Goods/105119262', 'https://www.yes24.com/Product/Goods/132005760', 'https://www.yes24.com/Product/Goods/130175384', 'https://www.yes24.com/Product/Goods/125995791', 'https://www.yes24.com/Product/Goods/129124029', 'https://www.yes24.com/Product/Goods/122120495', 'https://www.yes24.com/Product/Goods/126590468', 'https://www.yes24.com/Product/Goods/131141187', 'https://www.yes24.com/Product/Goods/124225606', 'https://www.yes24.com/Product/Goods/131929977', 'https://www.yes24.com/Product/Goods/131169928', 'https://www.yes24.com/Product/Goods/126845471', 'https://www.yes24.com/Product/Goods/130169010', 'https://www.yes24.com/Product/Goods/123930880', 'https://www.yes24.com/Product/Goods/130104021', 'https://www.yes24.com/Product/Goods/125285962', 'https://www.yes24.com/Product/Goods/130137454', 'https://www.yes24.com/Product/Goods/132560925', 'https://www.yes24.com/Product/Goods/129868692', 'https://www.yes24.com/Product/Goods/123930891', 'https://www.yes24.com/Product/Goods/23030284', 'https://www.yes24.com/Product/Goods/101864763', 'https://www.yes24.com/Product/Goods/129868701', 'https://www.yes24.com/Product/Goods/126702038', 'https://www.yes24.com/Product/Goods/130697449', 'https://www.yes24.com/Product/Goods/131143825', 'https://www.yes24.com/Product/Goods/125992096', 'https://www.yes24.com/Product/Goods/129868658', 'https://www.yes24.com/Product/Goods/132549254', 'https://www.yes24.com/Product/Goods/130282007', 'https://www.yes24.com/Product/Goods/130339184', 'https://www.yes24.com/Product/Goods/67362730', 'https://www.yes24.com/Product/Goods/124622440', 'https://www.yes24.com/Product/Goods/125005783', 'https://www.yes24.com/Product/Goods/2312211', 'https://www.yes24.com/Product/Goods/129392318', 'https://www.yes24.com/Product/Goods/129132125', 'https://www.yes24.com/Product/Goods/126516935', 'https://www.yes24.com/Product/Goods/125295101', 'https://www.yes24.com/Product/Goods/11081680', 'https://www.yes24.com/Product/Goods/104663596', 'https://www.yes24.com/Product/Goods/2944911', 'https://www.yes24.com/Product/Goods/131206997', 'https://www.yes24.com/Product/Goods/102791425', 'https://www.yes24.com/Product/Goods/123675187', 'https://www.yes24.com/Product/Goods/131927753']\n"
     ]
    }
   ],
   "source": [
    "import time\n",
    "\n",
    "link_list = []\n",
    "#3페이지 까지의 링크데이터 전부 수집\n",
    "for i in range(1,4):\n",
    "    url = f'https://www.yes24.com/Product/Category/BestSeller?categoryNumber=001&pageNumber={i}&pageSize=24'\n",
    "    browser.get(url)\n",
    "\n",
    "    datas = browser.find_elements(By.CLASS_NAME, 'gd_name') #elements : 리스트\n",
    "\n",
    "    for i in datas:\n",
    "        link = i.get_attribute('href')\n",
    "        link_list.append(link)\n",
    "\n",
    "    time.sleep(3)\n",
    "\n",
    "print(link_list)"
   ]
  },
  {
   "cell_type": "code",
   "execution_count": 28,
   "metadata": {},
   "outputs": [
    {
     "data": {
      "text/plain": [
       "72"
      ]
     },
     "execution_count": 28,
     "metadata": {},
     "output_type": "execute_result"
    }
   ],
   "source": [
    "len(link_list)"
   ]
  },
  {
   "cell_type": "code",
   "execution_count": null,
   "metadata": {},
   "outputs": [
    {
     "name": "stdout",
     "output_type": "stream",
     "text": [
      "67\n"
     ]
    }
   ],
   "source": [
    "\n",
    "#for link in link_list :\n",
    "#    #상세 페이지로 이동\n",
    "#    browser.get(link)\n",
    "\n",
    "browser.get(link_list[1])\n",
    "\n",
    "title = browser.find_element(By.CLASS_NAME, 'gd_name').text\n",
    "author = browser.find_element(By.CLASS_NAME, 'gd_auth').text\n",
    "publisher = browser.find_element(By.CLASS_NAME, 'gd_pub').text\n",
    "publishing = browser.find_element(By.CLASS_NAME, 'gd_date').text\n",
    "rating = browser.find_element(By.CLASS_NAME, 'yes_b').text\n",
    "review = browser.find_element(By.CLASS_NAME, 'txC_blue').text\n",
    "sales = browser.find_element(By.CLASS_NAME, 'gd_sellNum').text.split(\" \")[2]\n",
    "price = browser.find_element(By.CLASS_NAME, 'yes_m').text[:-1]\n",
    "ranking = browser.find_element(By.CLASS_NAME, 'gd_best').text.split(\" | \")[1].split(\" \")[1][:-1]\n",
    "ranking_weeks = browser.find_element(By.CLASS_NAME, 'gd_best').text.split(\" | \")[1].split(\" \")[2][:-1]\n",
    "\n",
    "print(review)"
   ]
  },
  {
   "cell_type": "code",
   "execution_count": 17,
   "metadata": {},
   "outputs": [
    {
     "name": "stdout",
     "output_type": "stream",
     "text": [
      "페이지 번호 : 1\n",
      "저장 정보 : 만화로 보는 3분 철학 1 김재훈 글그림/서정욱 글 카시오페아 2021-07-02 9.2 67 279234 14400 1 12\n",
      "저장 정보 : 너에게 들려주는 단단한 말 김종원 저 퍼스트펭귄 2024-07-10 9.7 85 413376 16200 2 12\n",
      "저장 정보 : 하루 한 장 나의 어휘력을 위한 필사 노트 유선경 저 위즈덤하우스 2024-03-28 9.6 264 601155 21420 3 13\n",
      "저장 정보 : 이중 하나는 거짓말 김애란 저 문학동네 2024-08-27 9.8 46 136191 14400 4 202\n",
      "저장 정보 : 만화로 보는 3분 철학 2 김재훈 글그림/서정욱 글 카시오페아 2021-10-27 9.6 48 147084 15120 5 202\n",
      "저장 정보 : 만화로 보는 3분 철학 3 김재훈 글그림/서정욱 글 카시오페아 2022-05-09 9.8 59 143316 15120 6 202\n",
      "저장 정보 : 사피엔스 : 그래픽 히스토리 Vol.1 유발 하라리 원저/다니엘 카사나브 그림/다비드 반데르묄렝 편/김명주 역 김영사 2020-11-23 9.6 102 158850 16020 7 203\n",
      "저장 정보 : 불안 세대 조너선 하이트 저/이충호 역 웅진지식하우스 2024-07-31 9.6 29 121842 22320 8 203\n",
      "저장 정보 : 불변의 법칙 모건 하우절 저/이수경 역 서삼독 2024-02-28 9.5 426 620292 22500 9 16\n",
      "저장 정보 : 고전이 답했다 마땅히 살아야 할 삶에 대하여 고명환 저 라곰 2024-08-26 10.0 40 57540 15120 10 201\n",
      "저장 정보 : 푸른 사자 와니니 7 이현 글/오윤화 그림 창비 2024-08-16 10.0 5 51270 10800 11 201\n",
      "저장 정보 : 당신이 누군가를 죽였다 히가시노 게이고 저/최고은 역 북다 2024-07-23 9.8 96 191814 17820 12 205\n",
      "저장 정보 : 세이노의 가르침 세이노(SayNo) 저 데이원 2023-03-02 9.0 2410 1019307 6480 13 122\n",
      "저장 정보 : 영원한 천국 정유정 저 은행나무 2024-08-28 9.5 12 85239 17820 14 202\n",
      "저장 정보 : 백설공주에게 죽음을 (특별판) 넬레 노이하우스 저/김진아 역 북로드 2024-05-24 9.3 18 58377 16020 15 201\n",
      "저장 정보 : 퇴사인류 보고서 김퇴사 저 비에이블 2024-08-28 9.8 10 31953 15120 16 201\n",
      "저장 정보 : 김켈리의 신비마트 1 김켈리(김은영) 원저/이세경 글/박상빈 그림 베가북스 2024-08-23 9.3 3 57696 14400 17 201\n",
      "저장 정보 : ETS 토익 정기시험 기출문제집 1000 Vol. 4 RC ETS 저 YBM(와이비엠) 2023-12-20 9.7 180 453288 17820 18 2032\n",
      "저장 정보 : 돈의 심리학 (30만 부 기념 스페셜 에디션) 모건 하우절 저/이지연 역 인플루엔셜 2021-01-13 9.3 919 302766 17820 19 2029\n",
      "저장 정보 : ETS 토익 정기시험 기출문제집 1000 Vol. 4 LC ETS 저 YBM(와이비엠) 2023-12-20 9.8 163 424908 17820 20 2026\n",
      "저장 정보 : 죽이고 싶은 아이 2 이꽃님 저 우리학교 2024-07-01 9.8 84 183258 12600 21 207\n",
      "저장 정보 : 모순 양귀자 저 쓰다 2013-04-01 9.6 1068 342747 11700 22 205\n",
      "저장 정보 : 국어 잘하는 아이가 이깁니다 나민애 저 김영사 2024-03-15 9.8 122 215064 15750 23 207\n",
      "저장 정보 : 에그박사 13 에그박사 원저/박송이 글/홍종현 그림/이승현 감수 미래엔아이세움 2024-08-08 9.9 26 73452 14220 24 201\n",
      "페이지 번호 : 2\n",
      "저장 정보 : 부모의 어휘력 김종원 저 카시오페아 2024-06-17 9.7 47 115194 17100 25 10010\n",
      "저장 정보 : 찬란한 멸종 이정모 저 다산북스 2024-08-07 9.8 12 40032 18900 26 1001\n",
      "저장 정보 : 사피엔스 : 그래픽 히스토리 Vol.2 유발 하라리 원저/다니엘 카사나브 그림/다비드 반데르묄렝 편/김명주 역 김영사 2021-11-22 9.6 55 82221 17820 27 201\n",
      "저장 정보 : 별의 커비 푸푸푸 히어로 5 아오키 케이&미카마루 글그림/김지영 역 다산어린이 2024-08-26 10.0 1 30930 9900 28 1001\n",
      "저장 정보 : 2024 에듀윌 공인중개사 오시훈 필살키 부동산공법 최종이론&마무리 100선 오시훈 편저 에듀윌 2024-08-19 10.0 12 61443 14400 29 1003\n",
      "저장 정보 : 사피엔스 : 그래픽 히스토리 Vol.3 역사의 배후 유발 하라리 저/다니엘 카사나브 그림/김명주 역 김영사 2024-04-19 9.0 2 77904 17820 30 201\n",
      "저장 정보 : 저속노화 식사법 정희원 저 테이스트북스 2024-07-26 9.9 24 99504 17100 31 201\n",
      "저장 정보 : 마흔에 읽는 쇼펜하우어 (200쇄 기념 확장판) 강용수 저 유노북스 2023-09-07 8.7 571 950871 15300 32 112\n",
      "저장 정보 : 초역 부처의 말 코이케 류노스케 저/박재현 역 포레스트북스 2024-05-30 9.6 111 196314 16020 33 209\n",
      "저장 정보 : 푸른 들판을 걷다 클레어 키건 저/허진 역 다산책방 2024-08-20 10.0 8 37605 15120 34 1002\n",
      "저장 정보 : 내 몸 혁명 박용우 저 루미너스 2024-01-10 9.8 107 206421 17550 35 206\n",
      "저장 정보 : 카구라바치 1 더블특전판 호카조노 타케루 글그림 대원 2024-08-29 10.0 4 32400 5850 36 1001\n",
      "저장 정보 : 타키 포오 코믹 어드벤처 6 캐릭온TV 원저/안도감 글/김규태 그림 대원씨아이(단행)(대원키즈) 2024-08-15 10.0 3 29724 13050 37 1001\n",
      "저장 정보 : 허송세월 김훈 저 나남 2024-06-20 9.3 84 212460 16200 38 208\n",
      "저장 정보 : 김대중 육성 회고록 연세대학교 김대중도서관 기획 한길사 2024-08-12 10.0 4 39246 29700 39 1001\n",
      "저장 정보 : 2024 큰별쌤 최태성의 별별한국사 한국사능력검정시험 심화(1,2,3급) 상 최태성 저 이투스북 2023-12-01 9.8 92 350649 14400 40 2012\n",
      "저장 정보 : 2024 에듀윌 공인중개사 임선정 필살키 공인중개사법령 및 중개실무 임선정 편저 에듀윌 2024-08-09 10.0 10 54387 12600 41 1003\n",
      "저장 정보 : 혼자일 수 없다면 나아갈 수 없다 프리드리히 니체 저/김욱 편역 포레스트북스 2024-03-14 9.6 54 104367 15750 42 1008\n",
      "저장 정보 : 매직 스플릿 박성현 저 경이로움 2024-08-20 10.0 6 52704 15300 43 1003\n",
      "저장 정보 : 설민석의 한국사 대모험 30 설민석, 스토리박스 글/정현희 그림/강석화 감수 단꿈아이 2024-08-26 10.0 17 23310 11700 44 1001\n",
      "저장 정보 : 2024 에듀윌 공인중개사 김민석 필살키 최종이론&마무리 100선 부동산공시법 김민석 편저 에듀윌 2024-08-05 10.0 21 56148 12600 45 1003\n",
      "저장 정보 : 2024 큰별쌤 최태성의 별별한국사 한국사능력검정시험 심화(1,2,3급) 하 최태성 저 이투스북 2023-12-01 10.0 78 333090 13950 46 2011\n",
      "저장 정보 : 사피엔스 유발 하라리 저/조현욱 역/이태수 감수 김영사 2015-11-23 9.5 2008 160524 24120 47 2054\n",
      "저장 정보 : 죽이고 싶은 아이 이꽃님 저 우리학교 2021-06-07 9.5 295 157869 11250 48 10011\n",
      "페이지 번호 : 3\n",
      "저장 정보 : 2024 에듀윌 공인중개사 한영규 필살키 최종이론&마무리 100선 부동산세법 한영규 편저 에듀윌 2024-08-05 10.0 14 54474 12600 49 1003\n",
      "저장 정보 : THE MONEY BOOK 더 머니북 토스 저 비바리퍼블리카 2024-05-27 8.8 98 181032 19800 50 209\n",
      "저장 정보 : 원펀맨 ONE PUNCH MAN 30 ONE 원저/무라타 유스케 그림 대원 2024-08-15 9.7 32 41871 4950 51 1002\n",
      "저장 정보 : 헬로 뷰티풀 앤 나폴리타노 저/허진 역 복복서가 2024-08-27 10.0 2 36174 16650 52 1002\n",
      "저장 정보 : 빨모쌤의 라이브 영어회화 (특별 부록 한정판) 신용하 저 웅진지식하우스 2024-04-24 9.7 239 219867 19800 53 209\n",
      "저장 정보 : 2024 에듀윌 공인중개사 이영방 필살키 최종이론&마무리 100선 부동산학개론 이영방 편저 에듀윌 2024-08-05 10.0 11 49788 12600 54 1003\n",
      "저장 정보 : 데뷔 못 하면 죽는 병 걸림 3부 초판 한정 굿즈박스 세트 백덕수 저 위시북스 2024-12-08 0.0 0 35520 108000 55 1001\n",
      "저장 정보 : Go Go 카카오프렌즈 33 필리핀 김미영 글/김정한 그림 아울북 2024-08-14 10.0 12 46485 15120 56 201\n",
      "저장 정보 : 명탐정 코난 105 특장판 아오야마 고쇼 글그림 서울미디어코믹스(서울문화사) 2024-08-16 9.3 15 45588 9000 57 201\n",
      "저장 정보 : 해커스 토익 기출 VOCA (보카) David Cho 저 해커스어학연구소 2023-07-24 9.5 955 348726 11610 58 2064\n",
      "저장 정보 : 시한부 백은별 저 바른북스 2024-01-23 9.8 34 77448 15120 59 1002\n",
      "저장 정보 : 우리에게 남은 시간 46일 이설 저 하이스트 2024-02-14 9.6 14 62208 15120 60 1003\n",
      "저장 정보 : 코스모스 칼 에드워드 세이건 저/홍승수 역 사이언스북스 2006-12-20 9.6 1919 204804 17910 61 2015\n",
      "저장 정보 : 디자인 구구단 에이핫 저 길벗 2024-08-05 9.7 24 35379 18000 62 1001\n",
      "저장 정보 : 이은경쌤의 중등어휘일력 365 이은경 저/배혜림 감수 포레스트북스 2024-07-29 9.8 54 63117 19800 63 1004\n",
      "저장 정보 : 나는 다정한 관찰자가 되기로 했다 이은경 저 서교책방 2024-05-30 9.6 163 168603 16020 64 209\n",
      "저장 정보 : 나를 소모하지 않는 현명한 태도에 관하여 마티아스 뇔케 저/이미옥 역 퍼스트펭귄 2024-03-10 8.7 197 351363 16020 65 12\n",
      "저장 정보 : 자본주의 정지은, 고희정 저 가나출판사 2013-09-27 9.4 784 184434 19800 66 10052\n",
      "저장 정보 : 언젠가 우리가 같은 별을 바라본다면 차인표 저 해결책 2021-12-15 9.9 131 82557 10800 67 202\n",
      "저장 정보 : 괴테와의 대화 1 장희창 역 민음사 2008-05-02 9.9 23 27621 14400 68 1001\n",
      "저장 정보 : 흐릿한 나를 견디는 법 쑥 저 빅피시 2024-09-04 0.0 0 17670 15750 69 1001\n",
      "저장 정보 : 홍학의 자리 정해연 저 엘릭시르 2021-07-26 9.3 558 111099 12600 70 1006\n",
      "저장 정보 : 나는 메트로폴리탄 미술관의 경비원입니다 패트릭 브링리 저/김희정, 조현주 역 웅진지식하우스 2023-11-24 8.9 432 440742 15750 71 2021\n"
     ]
    }
   ],
   "source": [
    "import re\n",
    "from datetime import datetime\n",
    "import pymysql\n",
    "\n",
    "conn = pymysql.connect(\n",
    "    host = 'localhost',\n",
    "    user='root',\n",
    "    password='208300',\n",
    "    db='yes24',\n",
    "    charset='utf8mb4',\n",
    "    cursorclass=pymysql.cursors.DictCursor\n",
    ")\n",
    "\n",
    "def sql_execute(sql, *args) :\n",
    "    with conn.cursor() as cursor :\n",
    "        cursor.execute(sql,*args)\n",
    "        if 'select' in sql.lower() :\n",
    "            return cursor.fetchall()\n",
    "        conn.commit()\n",
    "\n",
    "fail_list = []\n",
    "sql = \"\"\"\n",
    "        INSERT INTO Books(title, author,publisher,publishing,rating,review, sales,price,ranking,ranking_weeks)\n",
    "        VALUES(%s,%s,%s,%s,%s,%s,%s,%s,%s,%s)\n",
    "        \"\"\"\n",
    "for page_num in range(1,10) :\n",
    "    print('페이지 번호 :',page_num)\n",
    "    browser.get(f\"https://www.yes24.com/Product/Category/BestSeller?categoryNumber=001&pageNumber={page_num}&pageSize=24\")\n",
    "    browser.implicitly_wait(time_to_wait=10) \n",
    "    book_list = browser.find_element(By.ID, 'yesBestList').find_elements(By.CLASS_NAME, 'itemUnit')\n",
    "    for i in range(len(book_list)) :\n",
    "        book_list[i].find_element(By.CLASS_NAME, 'gd_name').click()\n",
    "        browser.implicitly_wait(time_to_wait=10) \n",
    "        try :\n",
    "            title = browser.find_element(By.CLASS_NAME, 'gd_name').text\n",
    "        except : \n",
    "            fail_list.append(i)\n",
    "            continue\n",
    "        try :\n",
    "            author = browser.find_element(By.CLASS_NAME, 'gd_auth').text\n",
    "        except : \n",
    "            fail_list.append(i)\n",
    "            continue\n",
    "        try :\n",
    "            publisher = browser.find_element(By.CLASS_NAME, 'gd_pub').text\n",
    "        except : \n",
    "            fail_list.append(i)\n",
    "            continue\n",
    "        try : \n",
    "            publishing = browser.find_element(By.CLASS_NAME, 'gd_date').text\n",
    "            match = re.search(r'(\\d+)년 (\\d+)월 (\\d+)일', publishing)\n",
    "            if match :\n",
    "                year, month, day = match.groups()\n",
    "                date_data = datetime(int(year), int(month), int(day))\n",
    "                publishing = date_data.strftime('%Y-%m-%d')\n",
    "            else :\n",
    "                date_data = datetime(int(1111), int(11), int(11))\n",
    "                publishing = date_data.strftime('%Y-%m-%d')\n",
    "        except : \n",
    "            fail_list.append(i)\n",
    "            continue\n",
    "        try :\n",
    "            rating = browser.find_element(By.CLASS_NAME, 'gd_rating').find_element(By.CLASS_NAME,'yes_b').text\n",
    "        except : \n",
    "            rating = '0.0'\n",
    "        try :\n",
    "            review = browser.find_element(By.CLASS_NAME, 'gd_reviewCount').find_element(By.CLASS_NAME, 'txC_blue').text.replace(',','')\n",
    "        except : \n",
    "            review = '0'\n",
    "        try :\n",
    "            sales = browser.find_element(By.CLASS_NAME, 'gd_sellNum').text.split(' ')[2].replace(',','')\n",
    "        except : \n",
    "            sales = '0'\n",
    "        try :\n",
    "            price = browser.find_element(By.CLASS_NAME, 'nor_price').find_element(By.CLASS_NAME, 'yes_m').text.replace(',','')\n",
    "        except : \n",
    "            fail_list.append(i)\n",
    "            continue\n",
    "        try :\n",
    "            ranking = browser.find_element(By.CLASS_NAME, 'gd_best_tp02').text.split(' | ')[0]\n",
    "            ranking = ''.join(filter(str.isdigit,ranking))\n",
    "        except : \n",
    "            fail_list.append(i)\n",
    "            continue\n",
    "        try :\n",
    "            ranking_weeks = browser.find_element(By.CLASS_NAME, 'gd_best_tp02').text.split(' | ')[1]\n",
    "            ranking_weeks = ''.join(filter(str.isdigit,ranking_weeks))\n",
    "        except : \n",
    "            ranking_weeks = '0'\n",
    "        browser.back()\n",
    "        browser.implicitly_wait(time_to_wait=10) \n",
    "        sql_execute(sql, (title, author, publisher, publishing, rating, review, sales, price, ranking, ranking_weeks))\n",
    "        print('저장 정보 :',title, author, publisher, publishing, rating, review, sales, price, ranking, ranking_weeks)\n"
   ]
  },
  {
   "cell_type": "code",
   "execution_count": null,
   "metadata": {},
   "outputs": [],
   "source": [
    "\"\"\"\n",
    "with conn.cursor() as cur:\n",
    "\n",
    "    for link in link_list:\n",
    "        browser.get(link)\n",
    "\n",
    "        title = browser.find_element(By.CLASS_NAME, 'gd_name').text\n",
    "        author = browser.find_element(By.CLASS_NAME, 'gd_auth').text\n",
    "        publisher = browser.find_element(By.CLASS_NAME, 'gd_pub').text\n",
    "        publishing = browser.find_element(By.CLASS_NAME, 'gd_date').text\n",
    "        match = re.search(r'(\\d+)년 (\\d+)월 (\\d+)일', publishing)\n",
    "        if match:\n",
    "            year, month, day = match.groups()\n",
    "            data_obj = datetime(int(year), int(month), int(day))\n",
    "            publishing = data_obj.strftime(\"%Y-%m-%d\")\n",
    "        else:\n",
    "            publishing = \"2023-01-01\"\n",
    "        rating = browser.find_element(By.CLASS_NAME, 'yes_b').text\n",
    "        review = browser.find_element(By.CLASS_NAME, 'txC_blue').text\n",
    "        review = int(review.replace(\",\",\"\"))\n",
    "        sales = browser.find_element(By.CLASS_NAME, 'gd_sellNum').text.split(\" \")[2]\n",
    "        sales = int(sales.replace(\",\",\"\"))\n",
    "        price = browser.find_element(By.CLASS_NAME, 'yes_m').text[:-1]\n",
    "        price = int(price.replace(\",\",\"\"))\n",
    "        ranking = browser.find_element(By.CLASS_NAME, 'gd_best').text.split(\" | \")[1].split(\" \")[1][:-1]\n",
    "        ranking_weeks = browser.find_element(By.CLASS_NAME, 'gd_best').text.split(\" | \")[1].split(\" \")[2][:-1]\n",
    "\n",
    "        sql = INSERT INTO Books\n",
    "            (title, author, publisher, publishing, rating, review, sales, price, ranking, ranking_weeks)\n",
    "            VALUES(\n",
    "            %s, %s, %s, %s, %s, %s, %s, %s, %s, %s\n",
    "            )\n",
    "            \n",
    "\n",
    "    cur.execute(sql, (title, author, publisher, publishing, rating, review, sales, price, ranking, ranking_weeks))\n",
    "\n",
    "\"\"\""
   ]
  }
 ],
 "metadata": {
  "kernelspec": {
   "display_name": "Python 3",
   "language": "python",
   "name": "python3"
  },
  "language_info": {
   "codemirror_mode": {
    "name": "ipython",
    "version": 3
   },
   "file_extension": ".py",
   "mimetype": "text/x-python",
   "name": "python",
   "nbconvert_exporter": "python",
   "pygments_lexer": "ipython3",
   "version": "3.9.7"
  }
 },
 "nbformat": 4,
 "nbformat_minor": 2
}
