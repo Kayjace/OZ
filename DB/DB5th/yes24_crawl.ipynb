{
 "cells": [
  {
   "cell_type": "code",
   "execution_count": 5,
   "metadata": {},
   "outputs": [
    {
     "data": {
      "text/plain": [
       "'/Users/mac/.wdm/drivers/chromedriver/mac64/127.0.6533.119/chromedriver-mac-x64/chromedriver'"
      ]
     },
     "execution_count": 5,
     "metadata": {},
     "output_type": "execute_result"
    }
   ],
   "source": [
    "#webdriver-manager library import\n",
    "from webdriver_manager.chrome import ChromeDriverManager\n",
    "ChromeDriverManager().install()"
   ]
  },
  {
   "cell_type": "code",
   "execution_count": 18,
   "metadata": {},
   "outputs": [],
   "source": [
    "from selenium import webdriver\n",
    "browser = webdriver.Chrome()"
   ]
  },
  {
   "cell_type": "code",
   "execution_count": 15,
   "metadata": {},
   "outputs": [],
   "source": [
    "url = 'https://www.google.com'\n",
    "browser.get(url)"
   ]
  },
  {
   "cell_type": "code",
   "execution_count": 17,
   "metadata": {},
   "outputs": [
    {
     "ename": "NoSuchWindowException",
     "evalue": "Message: no such window: target window already closed\nfrom unknown error: web view not found\n  (Session info: chrome=127.0.6533.120)\nStacktrace:\n0   chromedriver                        0x00000001089eb8b8 chromedriver + 5179576\n1   chromedriver                        0x00000001089e32ea chromedriver + 5145322\n2   chromedriver                        0x000000010855a2b0 chromedriver + 389808\n3   chromedriver                        0x0000000108531614 chromedriver + 222740\n4   chromedriver                        0x00000001085d08ed chromedriver + 874733\n5   chromedriver                        0x00000001085e54a9 chromedriver + 959657\n6   chromedriver                        0x00000001085c8553 chromedriver + 841043\n7   chromedriver                        0x00000001085997f6 chromedriver + 649206\n8   chromedriver                        0x000000010859a05e chromedriver + 651358\n9   chromedriver                        0x00000001089aeb20 chromedriver + 4930336\n10  chromedriver                        0x00000001089b3a36 chromedriver + 4950582\n11  chromedriver                        0x00000001089b4105 chromedriver + 4952325\n12  chromedriver                        0x0000000108990ee9 chromedriver + 4808425\n13  chromedriver                        0x00000001089b43f9 chromedriver + 4953081\n14  chromedriver                        0x0000000108982844 chromedriver + 4749380\n15  chromedriver                        0x00000001089d35c8 chromedriver + 5080520\n16  chromedriver                        0x00000001089d3787 chromedriver + 5080967\n17  chromedriver                        0x00000001089e2ece chromedriver + 5144270\n18  libsystem_pthread.dylib             0x00007ff80e81618b _pthread_start + 99\n19  libsystem_pthread.dylib             0x00007ff80e811ae3 thread_start + 15\n",
     "output_type": "error",
     "traceback": [
      "\u001b[0;31m---------------------------------------------------------------------------\u001b[0m",
      "\u001b[0;31mNoSuchWindowException\u001b[0m                     Traceback (most recent call last)",
      "Cell \u001b[0;32mIn[17], line 2\u001b[0m\n\u001b[1;32m      1\u001b[0m \u001b[38;5;28;01mfrom\u001b[39;00m \u001b[38;5;21;01mselenium\u001b[39;00m\u001b[38;5;21;01m.\u001b[39;00m\u001b[38;5;21;01mwebdriver\u001b[39;00m\u001b[38;5;21;01m.\u001b[39;00m\u001b[38;5;21;01mcommon\u001b[39;00m\u001b[38;5;21;01m.\u001b[39;00m\u001b[38;5;21;01mby\u001b[39;00m \u001b[38;5;28;01mimport\u001b[39;00m By\n\u001b[0;32m----> 2\u001b[0m \u001b[43mbrowser\u001b[49m\u001b[38;5;241;43m.\u001b[39;49m\u001b[43mfind_element\u001b[49m\u001b[43m(\u001b[49m\u001b[43mBy\u001b[49m\u001b[38;5;241;43m.\u001b[39;49m\u001b[43mCLASS_NAME\u001b[49m\u001b[43m,\u001b[49m\u001b[43m \u001b[49m\u001b[38;5;124;43m'\u001b[39;49m\u001b[38;5;124;43muU7dJb\u001b[39;49m\u001b[38;5;124;43m'\u001b[39;49m\u001b[43m)\u001b[49m\u001b[38;5;241m.\u001b[39mtext\n",
      "File \u001b[0;32m~/.pyenv/versions/3.9.7/lib/python3.9/site-packages/selenium/webdriver/remote/webdriver.py:748\u001b[0m, in \u001b[0;36mWebDriver.find_element\u001b[0;34m(self, by, value)\u001b[0m\n\u001b[1;32m    745\u001b[0m     by \u001b[38;5;241m=\u001b[39m By\u001b[38;5;241m.\u001b[39mCSS_SELECTOR\n\u001b[1;32m    746\u001b[0m     value \u001b[38;5;241m=\u001b[39m \u001b[38;5;124mf\u001b[39m\u001b[38;5;124m'\u001b[39m\u001b[38;5;124m[name=\u001b[39m\u001b[38;5;124m\"\u001b[39m\u001b[38;5;132;01m{\u001b[39;00mvalue\u001b[38;5;132;01m}\u001b[39;00m\u001b[38;5;124m\"\u001b[39m\u001b[38;5;124m]\u001b[39m\u001b[38;5;124m'\u001b[39m\n\u001b[0;32m--> 748\u001b[0m \u001b[38;5;28;01mreturn\u001b[39;00m \u001b[38;5;28;43mself\u001b[39;49m\u001b[38;5;241;43m.\u001b[39;49m\u001b[43mexecute\u001b[49m\u001b[43m(\u001b[49m\u001b[43mCommand\u001b[49m\u001b[38;5;241;43m.\u001b[39;49m\u001b[43mFIND_ELEMENT\u001b[49m\u001b[43m,\u001b[49m\u001b[43m \u001b[49m\u001b[43m{\u001b[49m\u001b[38;5;124;43m\"\u001b[39;49m\u001b[38;5;124;43musing\u001b[39;49m\u001b[38;5;124;43m\"\u001b[39;49m\u001b[43m:\u001b[49m\u001b[43m \u001b[49m\u001b[43mby\u001b[49m\u001b[43m,\u001b[49m\u001b[43m \u001b[49m\u001b[38;5;124;43m\"\u001b[39;49m\u001b[38;5;124;43mvalue\u001b[39;49m\u001b[38;5;124;43m\"\u001b[39;49m\u001b[43m:\u001b[49m\u001b[43m \u001b[49m\u001b[43mvalue\u001b[49m\u001b[43m}\u001b[49m\u001b[43m)\u001b[49m[\u001b[38;5;124m\"\u001b[39m\u001b[38;5;124mvalue\u001b[39m\u001b[38;5;124m\"\u001b[39m]\n",
      "File \u001b[0;32m~/.pyenv/versions/3.9.7/lib/python3.9/site-packages/selenium/webdriver/remote/webdriver.py:354\u001b[0m, in \u001b[0;36mWebDriver.execute\u001b[0;34m(self, driver_command, params)\u001b[0m\n\u001b[1;32m    352\u001b[0m response \u001b[38;5;241m=\u001b[39m \u001b[38;5;28mself\u001b[39m\u001b[38;5;241m.\u001b[39mcommand_executor\u001b[38;5;241m.\u001b[39mexecute(driver_command, params)\n\u001b[1;32m    353\u001b[0m \u001b[38;5;28;01mif\u001b[39;00m response:\n\u001b[0;32m--> 354\u001b[0m     \u001b[38;5;28;43mself\u001b[39;49m\u001b[38;5;241;43m.\u001b[39;49m\u001b[43merror_handler\u001b[49m\u001b[38;5;241;43m.\u001b[39;49m\u001b[43mcheck_response\u001b[49m\u001b[43m(\u001b[49m\u001b[43mresponse\u001b[49m\u001b[43m)\u001b[49m\n\u001b[1;32m    355\u001b[0m     response[\u001b[38;5;124m\"\u001b[39m\u001b[38;5;124mvalue\u001b[39m\u001b[38;5;124m\"\u001b[39m] \u001b[38;5;241m=\u001b[39m \u001b[38;5;28mself\u001b[39m\u001b[38;5;241m.\u001b[39m_unwrap_value(response\u001b[38;5;241m.\u001b[39mget(\u001b[38;5;124m\"\u001b[39m\u001b[38;5;124mvalue\u001b[39m\u001b[38;5;124m\"\u001b[39m, \u001b[38;5;28;01mNone\u001b[39;00m))\n\u001b[1;32m    356\u001b[0m     \u001b[38;5;28;01mreturn\u001b[39;00m response\n",
      "File \u001b[0;32m~/.pyenv/versions/3.9.7/lib/python3.9/site-packages/selenium/webdriver/remote/errorhandler.py:229\u001b[0m, in \u001b[0;36mErrorHandler.check_response\u001b[0;34m(self, response)\u001b[0m\n\u001b[1;32m    227\u001b[0m         alert_text \u001b[38;5;241m=\u001b[39m value[\u001b[38;5;124m\"\u001b[39m\u001b[38;5;124malert\u001b[39m\u001b[38;5;124m\"\u001b[39m]\u001b[38;5;241m.\u001b[39mget(\u001b[38;5;124m\"\u001b[39m\u001b[38;5;124mtext\u001b[39m\u001b[38;5;124m\"\u001b[39m)\n\u001b[1;32m    228\u001b[0m     \u001b[38;5;28;01mraise\u001b[39;00m exception_class(message, screen, stacktrace, alert_text)  \u001b[38;5;66;03m# type: ignore[call-arg]  # mypy is not smart enough here\u001b[39;00m\n\u001b[0;32m--> 229\u001b[0m \u001b[38;5;28;01mraise\u001b[39;00m exception_class(message, screen, stacktrace)\n",
      "\u001b[0;31mNoSuchWindowException\u001b[0m: Message: no such window: target window already closed\nfrom unknown error: web view not found\n  (Session info: chrome=127.0.6533.120)\nStacktrace:\n0   chromedriver                        0x00000001089eb8b8 chromedriver + 5179576\n1   chromedriver                        0x00000001089e32ea chromedriver + 5145322\n2   chromedriver                        0x000000010855a2b0 chromedriver + 389808\n3   chromedriver                        0x0000000108531614 chromedriver + 222740\n4   chromedriver                        0x00000001085d08ed chromedriver + 874733\n5   chromedriver                        0x00000001085e54a9 chromedriver + 959657\n6   chromedriver                        0x00000001085c8553 chromedriver + 841043\n7   chromedriver                        0x00000001085997f6 chromedriver + 649206\n8   chromedriver                        0x000000010859a05e chromedriver + 651358\n9   chromedriver                        0x00000001089aeb20 chromedriver + 4930336\n10  chromedriver                        0x00000001089b3a36 chromedriver + 4950582\n11  chromedriver                        0x00000001089b4105 chromedriver + 4952325\n12  chromedriver                        0x0000000108990ee9 chromedriver + 4808425\n13  chromedriver                        0x00000001089b43f9 chromedriver + 4953081\n14  chromedriver                        0x0000000108982844 chromedriver + 4749380\n15  chromedriver                        0x00000001089d35c8 chromedriver + 5080520\n16  chromedriver                        0x00000001089d3787 chromedriver + 5080967\n17  chromedriver                        0x00000001089e2ece chromedriver + 5144270\n18  libsystem_pthread.dylib             0x00007ff80e81618b _pthread_start + 99\n19  libsystem_pthread.dylib             0x00007ff80e811ae3 thread_start + 15\n"
     ]
    }
   ],
   "source": [
    "from selenium.webdriver.common.by import By\n",
    "browser.find_element(By.CLASS_NAME, 'uU7dJb').text"
   ]
  },
  {
   "cell_type": "code",
   "execution_count": 19,
   "metadata": {},
   "outputs": [],
   "source": [
    "url = 'https://www.yes24.com/Product/Category/BestSeller?categoryNumber=001&pageNumber=1&pageSize=24'\n",
    "browser.get(url)"
   ]
  },
  {
   "cell_type": "code",
   "execution_count": 22,
   "metadata": {},
   "outputs": [
    {
     "name": "stdout",
     "output_type": "stream",
     "text": [
      "https://www.yes24.com/Product/Goods/102457889\n",
      "https://www.yes24.com/Product/Goods/128266166\n",
      "https://www.yes24.com/Product/Goods/125557465\n",
      "https://www.yes24.com/Product/Goods/132560712\n",
      "https://www.yes24.com/Product/Goods/130500819\n",
      "https://www.yes24.com/Product/Goods/104687898\n",
      "https://www.yes24.com/Product/Goods/109145992\n",
      "https://www.yes24.com/Product/Goods/95721612\n",
      "https://www.yes24.com/Product/Goods/124999476\n",
      "https://www.yes24.com/Product/Goods/128917300\n",
      "https://www.yes24.com/Product/Goods/117014613\n",
      "https://www.yes24.com/Product/Goods/132556345\n",
      "https://www.yes24.com/Product/Goods/129602366\n",
      "https://www.yes24.com/Product/Goods/126642929\n",
      "https://www.yes24.com/Product/Goods/124043812\n",
      "https://www.yes24.com/Product/Goods/131930939\n",
      "https://www.yes24.com/Product/Goods/130134996\n",
      "https://www.yes24.com/Product/Goods/96547408\n",
      "https://www.yes24.com/Product/Goods/131143825\n",
      "https://www.yes24.com/Product/Goods/125384743\n",
      "https://www.yes24.com/Product/Goods/8759796\n",
      "https://www.yes24.com/Product/Goods/124043802\n",
      "https://www.yes24.com/Product/Goods/131931234\n",
      "https://www.yes24.com/Product/Goods/128133897\n"
     ]
    }
   ],
   "source": [
    "#1 페이지의 링크데이터 전부 수집\n",
    "browser.find_element(By.CLASS_NAME, 'gd_name').get_attribute('href')\n",
    "\n",
    "#browser.find_element(By.CLASS_NAME, 'gd_name') # element: 요소\n",
    "datas = browser.find_elements(By.CLASS_NAME, 'gd_name') #elements : 리스트\n",
    "\n",
    "for i in datas:\n",
    "    print(i.get_attribute('href'))"
   ]
  },
  {
   "cell_type": "code",
   "execution_count": 27,
   "metadata": {},
   "outputs": [
    {
     "name": "stdout",
     "output_type": "stream",
     "text": [
      "['https://www.yes24.com/Product/Goods/102457889', 'https://www.yes24.com/Product/Goods/128266166', 'https://www.yes24.com/Product/Goods/125557465', 'https://www.yes24.com/Product/Goods/132560712', 'https://www.yes24.com/Product/Goods/130500819', 'https://www.yes24.com/Product/Goods/104687898', 'https://www.yes24.com/Product/Goods/109145992', 'https://www.yes24.com/Product/Goods/95721612', 'https://www.yes24.com/Product/Goods/124999476', 'https://www.yes24.com/Product/Goods/128917300', 'https://www.yes24.com/Product/Goods/117014613', 'https://www.yes24.com/Product/Goods/132556345', 'https://www.yes24.com/Product/Goods/129602366', 'https://www.yes24.com/Product/Goods/126642929', 'https://www.yes24.com/Product/Goods/124043812', 'https://www.yes24.com/Product/Goods/131930939', 'https://www.yes24.com/Product/Goods/130134996', 'https://www.yes24.com/Product/Goods/96547408', 'https://www.yes24.com/Product/Goods/131143825', 'https://www.yes24.com/Product/Goods/125384743', 'https://www.yes24.com/Product/Goods/8759796', 'https://www.yes24.com/Product/Goods/124043802', 'https://www.yes24.com/Product/Goods/131931234', 'https://www.yes24.com/Product/Goods/128133897', 'https://www.yes24.com/Product/Goods/125995791', 'https://www.yes24.com/Product/Goods/105119262', 'https://www.yes24.com/Product/Goods/122120495', 'https://www.yes24.com/Product/Goods/126590468', 'https://www.yes24.com/Product/Goods/127050264', 'https://www.yes24.com/Product/Goods/124225606', 'https://www.yes24.com/Product/Goods/130175384', 'https://www.yes24.com/Product/Goods/129124029', 'https://www.yes24.com/Product/Goods/126845471', 'https://www.yes24.com/Product/Goods/130697449', 'https://www.yes24.com/Product/Goods/131141187', 'https://www.yes24.com/Product/Goods/125285962', 'https://www.yes24.com/Product/Goods/130339184', 'https://www.yes24.com/Product/Goods/123930880', 'https://www.yes24.com/Product/Goods/130169010', 'https://www.yes24.com/Product/Goods/130137454', 'https://www.yes24.com/Product/Goods/23030284', 'https://www.yes24.com/Product/Goods/125992096', 'https://www.yes24.com/Product/Goods/130282007', 'https://www.yes24.com/Product/Goods/131169928', 'https://www.yes24.com/Product/Goods/130104021', 'https://www.yes24.com/Product/Goods/101864763', 'https://www.yes24.com/Product/Goods/130701690', 'https://www.yes24.com/Product/Goods/126702038', 'https://www.yes24.com/Product/Goods/123930891', 'https://www.yes24.com/Product/Goods/129868692', 'https://www.yes24.com/Product/Goods/125005783', 'https://www.yes24.com/Product/Goods/67362730', 'https://www.yes24.com/Product/Goods/129868701', 'https://www.yes24.com/Product/Goods/131929977', 'https://www.yes24.com/Product/Goods/125295101', 'https://www.yes24.com/Product/Goods/131197006', 'https://www.yes24.com/Product/Goods/128939189', 'https://www.yes24.com/Product/Goods/132005760', 'https://www.yes24.com/Product/Goods/130135671', 'https://www.yes24.com/Product/Goods/129868658', 'https://www.yes24.com/Product/Goods/11081680', 'https://www.yes24.com/Product/Goods/125384202', 'https://www.yes24.com/Product/Goods/129132125', 'https://www.yes24.com/Product/Goods/130339423', 'https://www.yes24.com/Product/Goods/129054040', 'https://www.yes24.com/Product/Goods/124622440', 'https://www.yes24.com/Product/Goods/2944911', 'https://www.yes24.com/Product/Goods/2312211', 'https://www.yes24.com/Product/Goods/102791425', 'https://www.yes24.com/Product/Goods/123675187', 'https://www.yes24.com/Product/Goods/126511412', 'https://www.yes24.com/Product/Goods/28995741']\n"
     ]
    }
   ],
   "source": [
    "import time\n",
    "\n",
    "link_list = []\n",
    "#3페이지 까지의 링크데이터 전부 수집\n",
    "for i in range(1,4):\n",
    "    url = f'https://www.yes24.com/Product/Category/BestSeller?categoryNumber=001&pageNumber={i}&pageSize=24'\n",
    "    browser.get(url)\n",
    "\n",
    "    datas = browser.find_elements(By.CLASS_NAME, 'gd_name') #elements : 리스트\n",
    "\n",
    "    for i in datas:\n",
    "        link = i.get_attribute('href')\n",
    "        link_list.append(link)\n",
    "\n",
    "    time.sleep(3)\n",
    "\n",
    "print(link_list)"
   ]
  },
  {
   "cell_type": "code",
   "execution_count": 28,
   "metadata": {},
   "outputs": [
    {
     "data": {
      "text/plain": [
       "72"
      ]
     },
     "execution_count": 28,
     "metadata": {},
     "output_type": "execute_result"
    }
   ],
   "source": [
    "len(link_list)"
   ]
  },
  {
   "cell_type": "code",
   "execution_count": 39,
   "metadata": {},
   "outputs": [
    {
     "data": {
      "text/plain": [
       "'국내도서 1위'"
      ]
     },
     "execution_count": 39,
     "metadata": {},
     "output_type": "execute_result"
    }
   ],
   "source": [
    "\n",
    "#for link in link_list :\n",
    "#    #상세 페이지로 이동\n",
    "#    browser.get(link)\n",
    "\n",
    "browser.get(link_list[0])\n",
    "\n",
    "title = browser.find_element(By.CLASS_NAME, 'gd_name').text\n",
    "author = browser.find_element(By.CLASS_NAME, 'gd_auth').text\n",
    "publisher = browser.find_element(By.CLASS_NAME, 'gd_pub').text\n",
    "publishing = browser.find_element(By.CLASS_NAME, 'gd_date').text\n",
    "rating = browser.find_element(By.CLASS_NAME, 'yes_b').text\n",
    "reviews = browser.find_element(By.CLASS_NAME, 'txC_blue').text\n",
    "sales = browser.find_element(By.CLASS_NAME, 'gd_sellNum').text.split(\" \")[2]\n",
    "price = browser.find_element(By.CLASS_NAME, 'yes_m').text[:-1]\n",
    "ranking = browser.find_element(By.CLASS_NAME, 'gd_best').text.split(\" | \")[0]\n",
    "ranking_weeks = browser.find_element(By.CLASS_NAME, 'gd_best').text.split(\" | \")[1]"
   ]
  }
 ],
 "metadata": {
  "kernelspec": {
   "display_name": "Python 3",
   "language": "python",
   "name": "python3"
  },
  "language_info": {
   "codemirror_mode": {
    "name": "ipython",
    "version": 3
   },
   "file_extension": ".py",
   "mimetype": "text/x-python",
   "name": "python",
   "nbconvert_exporter": "python",
   "pygments_lexer": "ipython3",
   "version": "3.9.7"
  }
 },
 "nbformat": 4,
 "nbformat_minor": 2
}
