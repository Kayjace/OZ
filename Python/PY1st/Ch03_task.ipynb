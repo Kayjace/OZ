{
 "cells": [
  {
   "cell_type": "markdown",
   "metadata": {},
   "source": [
    "<span style=\"font-size:100%\">\n",
    "\n",
    "수업은 모두 열심히 들으셨나요?\n",
    "\n",
    "간혹 강의에서 언급되지 않은 내용이 문제로 나올 수 있습니다.<br>\n",
    "그럴땐 강의 내용 외 문제는 구글링을 통해 해결해주세요<br></span>\n",
    "<span style=\"font-size:80%\">\n",
    "(구글링 또한 개발자가 갖쳐야할 역량 중에 하나랍니다 😊)\n",
    "</span>\n",
    "\n",
    "---"
   ]
  },
  {
   "cell_type": "markdown",
   "metadata": {},
   "source": [
    "<span style=\"font-size:80%\">[문제1]<br><br></span>\n",
    "```주로 작성 중인 코드의 끝을 알리는 기호로 사용되며 파이썬에서 한 줄에 작성된 서로 다른 코드를 구분 지을 때 사용할 수 있는 기호를 골라주세요```\n",
    "\n",
    "1. ' , ' (쉼표)\n",
    "2. ' + ' (더하기 기호)\n",
    "3. ' ; ' (세미콜론)\n",
    "4. ' / ' (슬래시)"
   ]
  },
  {
   "cell_type": "markdown",
   "metadata": {},
   "source": [
    "<span style=\"color:red\">답변</span> :"
   ]
  },
  {
   "cell_type": "markdown",
   "metadata": {},
   "source": [
    "세미콜론"
   ]
  },
  {
   "cell_type": "markdown",
   "metadata": {},
   "source": [
    "----"
   ]
  },
  {
   "cell_type": "markdown",
   "metadata": {},
   "source": [
    "<span style=\"font-size:80%\">[문제2]<br><br></span>\n",
    "```Python의 PEP 8은 무엇인지 설명하고 PEP 8의 핵심적인 규칙을 1개 이상을 설명해주세요```"
   ]
  },
  {
   "cell_type": "markdown",
   "metadata": {},
   "source": [
    "<span style=\"color:red\">답변</span>"
   ]
  },
  {
   "cell_type": "markdown",
   "metadata": {},
   "source": [
    "Code is read much more often than it is written.\n",
    "\n",
    "코드 스타일의 일관성이 없으면, 다른 개발자가 코드를 이해하고 수정하는 데 더 많은 시간과 노력이 필요기 때문에, 코드의 가독성과 유지보수성을 높이기 위해 제안된 코드 스타일 가이드임. (파이썬 인핸스 프로포절 8)\n",
    "\n",
    "변수명부터 들여쓰기, 줄바꿈, 주석 처리 방법 등 다양한 코딩 규칙을 포함하고 있으며, 예를 들어 다음과 같은 핵심 규칙이 있음.\n",
    "\n",
    "공백 (WhiteSpace) -\n",
    "탭(tab)을 사용하지 말자. 공백(whitespace) 4개를 사용하자.\n",
    "코드 라인 길이는 79자를 넘기지 말자.\n",
    "함수와 클래스 구분을 위해 줄바꿈 2번을 하자\n",
    "클래스 내 메서드 구분을 위해 줄바꿈 1번을 하자\n",
    "변수 대입 시, 등호(=) 양쪽에 공백을 1개 주자\n",
    "\n"
   ]
  },
  {
   "cell_type": "markdown",
   "metadata": {},
   "source": [
    "----"
   ]
  },
  {
   "cell_type": "markdown",
   "metadata": {},
   "source": [
    "<span style=\"font-size:80%\">[문제3]<br><br></span>\n",
    "```Python에서 \"#\"이 의마하는 것은 무엇인지 설명해주세요```"
   ]
  },
  {
   "cell_type": "markdown",
   "metadata": {},
   "source": [
    "<span style=\"color:red\">답변</span>"
   ]
  },
  {
   "cell_type": "markdown",
   "metadata": {},
   "source": [
    "Python에서 # 기호는 주석(comments)을 나타내는 데 사용되며, 코드에 설명을 추가하거나 주석을 통해 코드의 특정 부분을 설명하기 위해 이용됨. 주석은 코드의 실행에 영향을 미치지 않으나 가독성과 이해를 위해 사용됨."
   ]
  },
  {
   "cell_type": "markdown",
   "metadata": {},
   "source": [
    "----"
   ]
  },
  {
   "cell_type": "markdown",
   "metadata": {},
   "source": [
    "<span style=\"font-size:80%\">[문제4]<br><br></span>\n",
    "```Python의 들여쓰기 장점과 기능에 대해 설명해주세요```"
   ]
  },
  {
   "cell_type": "markdown",
   "metadata": {},
   "source": [
    "<span style=\"color:red\">답변</span>"
   ]
  },
  {
   "cell_type": "markdown",
   "metadata": {},
   "source": [
    "파이썬에서 들여쓰기는 코드 블록을 정의하는 데 중요한 역할을 하며, 코드의 구조를 명확하게 하고, 가독성을 높이며, 코드 작성 및 유지보수를 용이하게 만듦.\n",
    "\n",
    "1.코드 블록 구분:\n",
    "파이썬에서 들여쓰기는 코드 블록을 정의하는 데 사용됨. 들여쓰기를 이용하여 코드 블록의 시작과 끝을 명확하게 구분할 수 있음.\n",
    "\n",
    "2.가독성 향상:\n",
    "코드의 구조를 자연스럽게 시각적으로 표현함. 코드 블록의 계층 구조가 들여쓰기를 통해 명확하게 드러나며, 코드가 직관적으로 이해하기 쉬워짐.\n",
    "블록이 겹치거나 중첩된 경우, 들여쓰기를 통해 계층 구조를 쉽게 파악 가능.\n",
    "\n",
    "3.일관성:\n",
    "모든 파이썬 코드는 들여쓰기를 사용하므로, 코드의 일관성이 유지됨. 이는 코드의 일관성을 보장하고, 다양한 개발자들 간의 협업을 수월하게 만듦.\n",
    "\n",
    "4.문법적 단순성:\n",
    "다른 언어에서는 중괄호 {}를 사용하여 코드 블록을 구분하지만, 파이썬은 들여쓰기를 사용하여 문법이 간결해집니다.\n",
    "중괄호 대신 들여쓰기를 사용함으로써 코드가 더 깔끔하고 간결하게 작성됨.\n",
    "\n",
    "5.오류 방지:\n",
    "들여쓰기를 제대로 하지 않으면 문법 오류가 발생하므로, 코드의 구조가 명확하게 유지되며 잘못된 코드 블록이나 논리 오류를 조기에 발견하는 데 도움을 줌."
   ]
  },
  {
   "cell_type": "markdown",
   "metadata": {},
   "source": [
    "----"
   ]
  },
  {
   "cell_type": "markdown",
   "metadata": {},
   "source": [
    "<span style=\"font-size:80%\">[문제5]<br><br></span>\n",
    "```print( )문의 기능 및 특징에 대해 설명해주세요```"
   ]
  },
  {
   "cell_type": "markdown",
   "metadata": {},
   "source": [
    "<span style=\"color:red\">답변</span>"
   ]
  },
  {
   "cell_type": "markdown",
   "metadata": {},
   "source": [
    "print() 함수는 기본적으로 콘솔에 인자로 전달된 값을 출력함. 여러 개의 인자를 전달할 수 있으며, 기본적으로는 공백으로 구분.\n",
    "\n",
    "문자열, 숫자, 리스트, 딕셔너리 등 다양한 데이터 타입을 출력 가능.\n",
    "\n",
    "기본적으로 print() 함수는 출력 후 자동으로 줄 바꿈을 수행. 문자열에 개행 문자 \\n을 포함하여 여러 줄을 출력 가능.\n",
    "\n",
    "전달된 인자를 문자열로 자동 변환하여 문자열이 아닌 데이터 타입도 print() 함수로 출력 가능.\n",
    "\n",
    "사용자 정의 오류 메시지를 포함할 때 매우 유용함. 다양한 데이터 타입을 함께 출력할 때도 쉽게 표현 가능.\n",
    "\n",
    "sep 매개변수를 사용하여 출력 간의 구분자를 설정가능.\n",
    "\n",
    "end 매개변수를 사용하여 출력 후에 추가할 문자를 지정 가능.\n",
    "\n",
    "file 매개변수를 사용하여 출력 결과를 파일에 쓸 수 있음. 파일 객체를 전달하면, 출력이 해당 파일로 리디렉션.\n",
    "\n",
    "문자열 포맷팅을 통해 형식화된 출력을 지원\n",
    "\n",
    "디버깅, 사용자 인터페이스, 로그 기록 등 여러 용도로 사용가능."
   ]
  },
  {
   "cell_type": "markdown",
   "metadata": {},
   "source": []
  }
 ],
 "metadata": {
  "language_info": {
   "name": "python"
  }
 },
 "nbformat": 4,
 "nbformat_minor": 2
}
