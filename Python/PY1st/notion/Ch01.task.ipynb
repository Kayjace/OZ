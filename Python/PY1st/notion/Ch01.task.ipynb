{
 "cells": [
  {
   "cell_type": "markdown",
   "metadata": {},
   "source": [
    "<span style=\"font-size:100%\">\n",
    "\n",
    "수업은 모두 열심히 들으셨나요?\n",
    "\n",
    "간혹 강의에서 언급되지 않은 내용이 문제로 나올 수 있습니다.<br>\n",
    "그럴땐 강의 내용 외 문제는 구글링을 통해 해결해주세요<br></span>\n",
    "<span style=\"font-size:80%\">\n",
    "(구글링 또한 개발자가 갖쳐야할 역량 중에 하나랍니다 😊)\n",
    "</span>\n",
    "\n",
    "---"
   ]
  },
  {
   "cell_type": "markdown",
   "metadata": {},
   "source": [
    "<span style=\"font-size:80%\">[문제1]<br><br></span>\n",
    "```인터프리트 방식에 대해 설명하고 2개 이상의 장점을 설명해주세요```"
   ]
  },
  {
   "cell_type": "markdown",
   "metadata": {},
   "source": [
    "<span style=\"color:red\">답변</span>"
   ]
  },
  {
   "cell_type": "markdown",
   "metadata": {},
   "source": [
    "코드를 한 줄씩 읽어 내려가며 실행하는 프로그램. 코드 전체를 기계어로 번역하는 컴파일러와는 대조적이다. 인터프리터는 실행 시마다 소스 코드를 한 줄씩 기계어로 번역하는 방식이기 때문에 실행 속도는 컴파일 언어보다 느리지만 코드 작성시 유연성이 높고 효율적이다. 또한 동적 기능을 지원하기 유리하다."
   ]
  },
  {
   "cell_type": "markdown",
   "metadata": {},
   "source": [
    "---"
   ]
  },
  {
   "cell_type": "markdown",
   "metadata": {},
   "source": [
    "<span style=\"font-size:80%\">[문제2]<br><br></span>\n",
    "```동적 타입 방식의 장점과 단점을 간략히 설명해주세요```"
   ]
  },
  {
   "cell_type": "markdown",
   "metadata": {},
   "source": [
    "<span style=\"color:red\">답변</span>"
   ]
  },
  {
   "cell_type": "markdown",
   "metadata": {},
   "source": [
    "장점\n",
    "\n",
    "유연성: 실행 시간에 타입이 결정되기 때문에 동적으로 변수의 타입을 변경할 수 있어 유연성이 높다.\n",
    "간단한 문법: 타입 선언이 없거나 간소화되어 코드가 간결할 수 있다.\n",
    "빠른 프로토타이핑: 초기 개발 속도가 빠르며 코드 작성이 간단할 수 있다.\n",
    "\n",
    "단점\n",
    "\n",
    "런타임 에러: 실행 중에 타입 관련 오류가 발생할 수 있으며, 이는 실행 시간에만 감지된다.\n",
    "코드 예측 어려움: 타입 정보가 부족하면 코드를 이해하고 예측하기 어려울 수 있다.\n",
    "성능 감소: 동적 타입 언어는 런타임에 타입 체크를 수행하므로 성능이 상대적으로 느릴 수 있다."
   ]
  },
  {
   "cell_type": "markdown",
   "metadata": {},
   "source": [
    "---"
   ]
  },
  {
   "cell_type": "markdown",
   "metadata": {},
   "source": [
    "<span style=\"font-size:80%\">[문제3]<br><br></span>\n",
    "```Python으로 정적타입 방식의 코드를 작성할 수 있는 방법을 구글링을 통해 검색 후 설명해주세요```"
   ]
  },
  {
   "cell_type": "markdown",
   "metadata": {},
   "source": [
    "<span style=\"color:red\">답변</span>"
   ]
  },
  {
   "cell_type": "markdown",
   "metadata": {},
   "source": [
    "타입 선언 문법을 이용해 변수와 함수의 입출력에 타입을 선언하여 정적타입 방식으로 코딩할 수 있다. 또한 pyCharm등의 IDE를 사용하여 타입 오류를 빠르게 확인 가능."
   ]
  },
  {
   "cell_type": "markdown",
   "metadata": {},
   "source": [
    "---"
   ]
  },
  {
   "cell_type": "markdown",
   "metadata": {},
   "source": [
    "<span style=\"font-size:80%\">[문제4]<br><br></span>\n",
    "```프로세스와 스레드의 차이점을 설명해주세요```"
   ]
  },
  {
   "cell_type": "markdown",
   "metadata": {},
   "source": [
    "<span style=\"color:red\">답변</span>"
   ]
  },
  {
   "cell_type": "markdown",
   "metadata": {},
   "source": [
    "컴퓨터에서 프로그램이 실행되고 있을 때, 그 실행 중인 프로그램을 프로세스라고 하며 각 프로세스는 자신만의 독립된 공간을 갖고 다른 프로세스와는 독립적으로 운영됨.\n",
    "\n",
    "스레드는 프로세스 안에서 일을 처리하는 더 작은 단위. 하나의 프로세스는 여러 개의 스레드를 가질 수 있음.\n",
    "\n",
    "프로세스는 완전히 독립적으로 실행되지만, 스레드는 같은 프로세스 내에서 실행되므로 서로 영향을 줄 수 있음.\n",
    "프로세스 간에는 자원을 공유하지 않지만, 스레드는 메모리 같은 자원을 공유 가능.\n",
    "프로세스를 새로 만드는 것은 비용이 많이 들지만, 스레드는 상대적으로 저비용으로 생성됨."
   ]
  },
  {
   "cell_type": "markdown",
   "metadata": {},
   "source": [
    "---"
   ]
  },
  {
   "cell_type": "markdown",
   "metadata": {},
   "source": [
    "<span style=\"font-size:80%\">[문제5]<br><br></span>\n",
    "```Python 2버전대와 3버전대의 차이를 성명해주세요```"
   ]
  },
  {
   "cell_type": "markdown",
   "metadata": {},
   "source": [
    "<span style=\"color:red\">답변</span>"
   ]
  },
  {
   "cell_type": "markdown",
   "metadata": {},
   "source": [
    "Python 3버전대의 구문이 비교적 더 간단하고 쉽게 이해 가능.\n",
    "Python 3의 기본 문자열 저장은 유니코드, 2버전 저장소는 \"u\"로 유니코드 문자열 값을 정의해야함\n",
    "Python 3 변수 값은 변경되지 않으나 2버전에서는 for-loop 내부에서 전역 변수 값을 사용하는 동안 변경됨\n",
    "Python 3 예외는 괄호로 묶어야 하고 Python 2 예외는 표기법으로 묶어야 함\n",
    "Python 3의 비교 순서 지정 규칙은 좀 더 단순화 되었음\n",
    "Python 3은 반복을 수행하기 위해 Range() 함수, 2에서는 xrange()가 사용됨.\n",
    "Python 2는 레거시, 3버전은 ai, 머신러닝 및 데이터 과학과 같은 최신 기술을 지원하며 강력한 툴킷/라이브러리 제공, 다른 언어와 혼합 가능등의 장점이 있음."
   ]
  },
  {
   "cell_type": "markdown",
   "metadata": {},
   "source": [
    "---"
   ]
  },
  {
   "cell_type": "markdown",
   "metadata": {},
   "source": [
    "<span style=\"font-size:80%\">[문제6]<br><br></span>\n",
    "```Python에서 메모리 관리는 어떻게 이루어지는지 설명해주세요```"
   ]
  },
  {
   "cell_type": "markdown",
   "metadata": {},
   "source": [
    "<span style=\"color:red\">답변</span>"
   ]
  },
  {
   "cell_type": "markdown",
   "metadata": {},
   "source": [
    "파이썬에서 메모리 관리는 레퍼런스카운팅 기반으로 이루어짐. 객체가 생성될 때 마다 객체를 참조하는 변수의 개수를 추적하는 방식.\n",
    "객체를 참조하는 변수의 개수가 0이 되면, 해당 객체의 메모리는 자동으로 해제됨.\n",
    "\n",
    "이 방식은 순환 레퍼런스(복수의 객체가 서로를 참조하는)와 같은 특정한 상황에서 메모리leak을 발생시킬 수 있음. 파이썬은 이를 해결하기 위해 가비지 컬렉션 기능을 제공하며 이 기능은 순환 레퍼런스가 발생할 경우에만 동작함.\n",
    "\n",
    "가비지 컬렉션은 일반적으로 자동으로 수행되나 명시적으로 gc모듈을 사용하여 가비지 컬렉션을 수행할 수도 있음.\n",
    "다만 가비지 컬렉션 기능은 메모리 사용량이 많고 프로그램 실행 속도에 악영향을 주며 객체 해제 시점 예측이 불가한 단점이 있음.\n",
    "\n"
   ]
  }
 ],
 "metadata": {
  "kernelspec": {
   "display_name": "Python 3",
   "language": "python",
   "name": "python3"
  },
  "language_info": {
   "codemirror_mode": {
    "name": "ipython",
    "version": 3
   },
   "file_extension": ".py",
   "mimetype": "text/x-python",
   "name": "python",
   "nbconvert_exporter": "python",
   "pygments_lexer": "ipython3",
   "version": "3.9.6"
  }
 },
 "nbformat": 4,
 "nbformat_minor": 2
}
