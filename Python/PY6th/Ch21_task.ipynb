{
 "cells": [
  {
   "cell_type": "markdown",
   "metadata": {},
   "source": [
    "사용자로부터 이름과 나이를 입력 받아, \"안녕하세요, [이름]님! 당신은 [나이]살입니다.\"라고 출력하는 함수 greet_user를 작성하세요."
   ]
  },
  {
   "cell_type": "code",
   "execution_count": 9,
   "metadata": {},
   "outputs": [
    {
     "name": "stdout",
     "output_type": "stream",
     "text": [
      "안녕하세요, 바보님! 당신은 2살입니다.\n"
     ]
    }
   ],
   "source": [
    "def get_name():\n",
    "    name = input(\"이름을 입력해주세요: \")\n",
    "    return name\n",
    "\n",
    "def get_age():\n",
    "    try:\n",
    "        age = input(\"나이를 입력해 주세요: \")\n",
    "        age_int = int(age)\n",
    "        return age_int\n",
    "    except ValueError as e:\n",
    "        print(\"오류가 발생했습니다:\", e)\n",
    "        raise\n",
    "\n",
    "def greet_user():\n",
    "        name = get_name()\n",
    "        age = get_age()\n",
    "        print(f\"안녕하세요, {name}님! 당신은 {age}살입니다.\")\n",
    "\n",
    "greet_user()"
   ]
  },
  {
   "cell_type": "markdown",
   "metadata": {},
   "source": []
  }
 ],
 "metadata": {
  "kernelspec": {
   "display_name": "Python 3",
   "language": "python",
   "name": "python3"
  },
  "language_info": {
   "codemirror_mode": {
    "name": "ipython",
    "version": 3
   },
   "file_extension": ".py",
   "mimetype": "text/x-python",
   "name": "python",
   "nbconvert_exporter": "python",
   "pygments_lexer": "ipython3",
   "version": "3.9.6"
  }
 },
 "nbformat": 4,
 "nbformat_minor": 2
}
