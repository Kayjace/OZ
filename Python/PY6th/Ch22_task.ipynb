{
 "cells": [
  {
   "cell_type": "markdown",
   "metadata": {},
   "source": [
    "여러 숫자를 입력받아 그 합계를 반환하는 함수 sum_numbers를 작성하세요. 이 때, 가변 매개변수를 사용하세요."
   ]
  },
  {
   "cell_type": "code",
   "execution_count": 7,
   "metadata": {},
   "outputs": [
    {
     "name": "stdout",
     "output_type": "stream",
     "text": [
      "숫자를 입력해야 합니다.\n",
      "숫자를 입력해야 합니다.\n"
     ]
    },
    {
     "data": {
      "text/plain": [
       "3"
      ]
     },
     "execution_count": 7,
     "metadata": {},
     "output_type": "execute_result"
    }
   ],
   "source": [
    "def sum_numbers(*args):\n",
    "    return sum(args)\n",
    "\n",
    "def get_numbers():\n",
    "    while True:\n",
    "        try:\n",
    "            numbers = input(\"여러 숫자를 콤마(,)로 구분하여 입력하세요: \")\n",
    "            number_list = [int(num) for num in numbers.split(\",\")]\n",
    "            return number_list\n",
    "        except ValueError:\n",
    "            print(\"숫자를 입력해야 합니다.\")\n",
    "\n",
    "number_list = get_numbers()\n",
    "sum_numbers(*number_list)"
   ]
  },
  {
   "cell_type": "markdown",
   "metadata": {},
   "source": []
  }
 ],
 "metadata": {
  "kernelspec": {
   "display_name": "Python 3",
   "language": "python",
   "name": "python3"
  },
  "language_info": {
   "codemirror_mode": {
    "name": "ipython",
    "version": 3
   },
   "file_extension": ".py",
   "mimetype": "text/x-python",
   "name": "python",
   "nbconvert_exporter": "python",
   "pygments_lexer": "ipython3",
   "version": "3.9.6"
  }
 },
 "nbformat": 4,
 "nbformat_minor": 2
}
