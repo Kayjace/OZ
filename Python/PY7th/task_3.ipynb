{
 "cells": [
  {
   "cell_type": "markdown",
   "metadata": {},
   "source": [
    "사용자로부터 여러 개의 숫자를 입력받아 리스트에 저장한 후, 사용자가 'done'이라고 입력할 때까지 계속 입력받으세요. \n",
    "\n",
    "- 입력 중 숫자가 아닌 값이 입력되면 ValueError를 처리\n",
    "- 숫자 외 값이 입력된 경우 어떤 값이 잘못 입력되었는지 사용자에게 알려주는 문구 출력<br>\n",
    "  (예: f\"잘못된 값: {변수}. 숫자를 입력해주세요.\")\n",
    "\n"
   ]
  },
  {
   "cell_type": "code",
   "execution_count": null,
   "metadata": {},
   "outputs": [],
   "source": [
    "def collect_numbers():\n",
    "    numbers = []\n",
    "    while True:\n",
    "        user_input = input(\"숫자를 입력하세요 (입력을 완료하려면 'done'을 입력하세요): \")\n",
    "        \n",
    "        if user_input.lower() == 'done':\n",
    "            break\n",
    "        \n",
    "        try:\n",
    "            number = float(user_input)\n",
    "            numbers.append(number)\n",
    "        except ValueError:\n",
    "            print(f\"잘못된 값: {user_input}. 숫자를 입력해주세요.\")\n",
    "    print(\"입력된 숫자들:\", numbers)\n",
    "\n",
    "collect_numbers()"
   ]
  },
  {
   "cell_type": "markdown",
   "metadata": {},
   "source": []
  }
 ],
 "metadata": {
  "kernelspec": {
   "display_name": "Python 3",
   "language": "python",
   "name": "python3"
  },
  "language_info": {
   "name": "python",
   "version": "3.9.7"
  }
 },
 "nbformat": 4,
 "nbformat_minor": 2
}
