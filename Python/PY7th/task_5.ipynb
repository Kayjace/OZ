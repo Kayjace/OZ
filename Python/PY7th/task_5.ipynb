{
 "cells": [
  {
   "cell_type": "markdown",
   "metadata": {},
   "source": [
    "datetime 모듈을 사용하여 현재 날짜와 시간을 출력하는 프로그램을 작성하세요. \n",
    "\n",
    "또한, 사용자로부터 태어난 년도를 입력받아 현재 나이를 계산하여 출력하세요."
   ]
  },
  {
   "cell_type": "code",
   "execution_count": 1,
   "metadata": {},
   "outputs": [
    {
     "name": "stdout",
     "output_type": "stream",
     "text": [
      "현재 날짜와 시간: 2024-08-09 16:40:53\n",
      "현재 나이: 38세\n"
     ]
    }
   ],
   "source": [
    "import datetime\n",
    "\n",
    "def print_current_date_time():\n",
    "    now = datetime.datetime.now()\n",
    "    print(f\"현재 날짜와 시간: {now.strftime('%Y-%m-%d %H:%M:%S')}\")\n",
    "\n",
    "def calculate_age(birth_year):\n",
    "    current_year = datetime.datetime.now().year\n",
    "    age = current_year - birth_year\n",
    "    return age\n",
    "\n",
    "def main():\n",
    "    print_current_date_time()\n",
    "\n",
    "    while True:\n",
    "        try:\n",
    "            birth_year = int(input(\"태어난 년도를 입력하세요: \"))\n",
    "            if birth_year > datetime.datetime.now().year:\n",
    "                raise ValueError(\"태어난 년도는 현재 년도보다 클 수 없습니다.\")\n",
    "            break\n",
    "        except ValueError as e:\n",
    "            print(f\"잘못된 입력입니다. {e}. 올바른 년도를 입력해주세요.\")\n",
    "\n",
    "    age = calculate_age(birth_year)\n",
    "    print(f\"현재 나이: {age}세\")\n",
    "\n",
    "if __name__ == \"__main__\":\n",
    "    main()"
   ]
  }
 ],
 "metadata": {
  "kernelspec": {
   "display_name": "Python 3",
   "language": "python",
   "name": "python3"
  },
  "language_info": {
   "codemirror_mode": {
    "name": "ipython",
    "version": 3
   },
   "file_extension": ".py",
   "mimetype": "text/x-python",
   "name": "python",
   "nbconvert_exporter": "python",
   "pygments_lexer": "ipython3",
   "version": "3.9.6"
  }
 },
 "nbformat": 4,
 "nbformat_minor": 2
}
