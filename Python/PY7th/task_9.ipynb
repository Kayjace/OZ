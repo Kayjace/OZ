{
 "cells": [
  {
   "cell_type": "markdown",
   "metadata": {},
   "source": [
    "animals라는 패키지를 만들고, 이 패키지 내에 mammals, birds라는 두 개의 서브 모듈을 생성하세요. \n",
    "\n",
    "- 각 모듈에는 최소한 한 개 이상의 동물에 관한 클래스를 정의하세요<br>\n",
    "  (예: mammals에는 Dog, birds에는 Eagle)\n",
    "- 이 패키지와 모듈을 사용하여 동물들의 정보를 출력하는 프로그램을 작성\n",
    "\n",
    "폴더 및 파일 구조\n",
    "```\n",
    "animals/(폴더)\n",
    "├── __init__.py\n",
    "├── mammals.py\n",
    "└── birds.py\n",
    "```\n"
   ]
  },
  {
   "cell_type": "code",
   "execution_count": null,
   "metadata": {},
   "outputs": [],
   "source": [
    "class Dog:\n",
    "    def __init__(self, name: str, breed: str):\n",
    "        self.name = name\n",
    "        self.breed = breed\n",
    "\n",
    "    def sound(self):\n",
    "        return f\"{self.name} says: Woof!\"\n",
    "\n",
    "    def __str__(self):\n",
    "        return f\"Dog(name={self.name}, breed={self.breed})\"\n",
    "\n",
    "class Cat:\n",
    "    def __init__(self, name: str, breed: str):\n",
    "        self.name = name\n",
    "        self.breed = breed\n",
    "    def sound(self):\n",
    "        return f\"{self.name} says: Meow!\"\n",
    "\n",
    "    def __str__(self):\n",
    "        return f\"Cat(name={self.name}, breed={self.breed})\""
   ]
  },
  {
   "cell_type": "code",
   "execution_count": null,
   "metadata": {},
   "outputs": [],
   "source": [
    "class Eagle:\n",
    "    def __init__(self, name: str, wingspan: float):\n",
    "        self.name = name\n",
    "        self.wingspan = wingspan\n",
    "\n",
    "    def soar(self):\n",
    "        return f\"{self.name} is soaring high!\"\n",
    "\n",
    "    def __str__(self):\n",
    "        return f\"Eagle(name={self.name}, wingspan={self.wingspan} meters)\""
   ]
  },
  {
   "cell_type": "code",
   "execution_count": null,
   "metadata": {},
   "outputs": [],
   "source": [
    "#실행 프로그램\n",
    "from animals.mammals import Dog\n",
    "from animals.mammals import Cat\n",
    "from animals.birds import Eagle\n",
    "\n",
    "def main():\n",
    "    # Dog 객체 생성 및 정보 출력\n",
    "    dog = Dog(name=\"Neiro\", breed=\"ShibaInu\")\n",
    "    print(dog)          # 출력: Dog(name=Neiro, breed=ShibaInu)\n",
    "    print(dog.sound())   # 출력: Neiro says: Woof!\n",
    "\n",
    "    # Cat 객체 생성 및 정보 출력\n",
    "    cat = Cat(name=\"Nyaa\", breed=\"Persian\")\n",
    "    print(cat)          # 출력: Cat(name=Nyaa, breed=Persian)\n",
    "    print(cat.sound())   # 출력: Buddy says: Meow!\n",
    "\n",
    "    # Eagle 객체 생성 및 정보 출력\n",
    "    eagle = Eagle(name=\"Bald Eagle\", wingspan=2.3)\n",
    "    print(eagle)        # 출력: Eagle(name=Bald Eagle, wingspan=2.3 meters)\n",
    "    print(eagle.soar()) # 출력: Bald Eagle is soaring high!\n",
    "\n",
    "if __name__ == \"__main__\":\n",
    "    main()"
   ]
  },
  {
   "cell_type": "markdown",
   "metadata": {},
   "source": []
  }
 ],
 "metadata": {
  "kernelspec": {
   "display_name": "Python 3",
   "language": "python",
   "name": "python3"
  },
  "language_info": {
   "name": "python",
   "version": "3.9.7"
  }
 },
 "nbformat": 4,
 "nbformat_minor": 2
}
